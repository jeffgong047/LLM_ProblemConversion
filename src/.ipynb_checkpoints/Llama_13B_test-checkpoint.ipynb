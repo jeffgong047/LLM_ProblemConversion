{
 "cells": [
  {
   "cell_type": "code",
   "execution_count": 1,
   "id": "762b50b7-5590-4f3c-8120-5bffbeca56fe",
   "metadata": {},
   "outputs": [
    {
     "name": "stdout",
     "output_type": "stream",
     "text": [
      "/common/home/zw393/wzz/LLM/LLM_ProblemConversion/src\n"
     ]
    },
    {
     "data": {
      "application/vnd.jupyter.widget-view+json": {
       "model_id": "fa7b581d11394d0296682e7fc335bcae",
       "version_major": 2,
       "version_minor": 0
      },
      "text/plain": [
       "Loading checkpoint shards:   0%|          | 0/3 [00:00<?, ?it/s]"
      ]
     },
     "metadata": {},
     "output_type": "display_data"
    }
   ],
   "source": [
    "\n",
    "import os \n",
    "print(os.getcwd())\n",
    "import re\n",
    "from transformers import AutoTokenizer, AutoModelForCausalLM , LlamaForCausalLM\n",
    "import time\n",
    "tokenizer = AutoTokenizer.from_pretrained(\"meta-llama/Llama-2-13b-chat-hf\")\n",
    "model = LlamaForCausalLM.from_pretrained(\"meta-llama/Llama-2-13b-chat-hf\")\n",
    "\n",
    "\n",
    "\n"
   ]
  },
  {
   "cell_type": "code",
   "execution_count": 2,
   "id": "cf888bed-8309-4e62-8f23-974cf36f4400",
   "metadata": {},
   "outputs": [
    {
     "data": {
      "application/vnd.jupyter.widget-view+json": {
       "model_id": "3be8918ee9aa43ae97b7db74f807ed1c",
       "version_major": 2,
       "version_minor": 0
      },
      "text/plain": [
       "Loading checkpoint shards:   0%|          | 0/3 [00:00<?, ?it/s]"
      ]
     },
     "metadata": {},
     "output_type": "display_data"
    }
   ],
   "source": [
    "from guidance import models\n",
    "llama2 = models.Transformers(\"meta-llama/Llama-2-13b-chat-hf\")"
   ]
  },
  {
   "cell_type": "code",
   "execution_count": 41,
   "id": "aeb46a0f-517f-4797-a6e1-db7a9e58ba28",
   "metadata": {},
   "outputs": [
    {
     "data": {
      "text/html": [
       "<pre style='margin: 0px; padding: 0px; padding-left: 8px; margin-left: -8px; border-radius: 0px; border-left: 1px solid rgba(127, 127, 127, 0.2); white-space: pre-wrap; font-family: ColfaxAI, Arial; font-size: 15px; line-height: 23px;'>Who won the last Kentucky derby and by how much?</pre>"
      ],
      "text/plain": [
       "<IPython.core.display.HTML object>"
      ]
     },
     "metadata": {},
     "output_type": "display_data"
    }
   ],
   "source": [
    "lm = llama2 + \"Who won the last Kentucky derby and by how much?\""
   ]
  },
  {
   "cell_type": "code",
   "execution_count": 42,
   "id": "e49bc9e2-d12f-4274-9e98-1846203ef409",
   "metadata": {},
   "outputs": [
    {
     "data": {
      "text/html": [
       "<pre style='margin: 0px; padding: 0px; padding-left: 8px; margin-left: -8px; border-radius: 0px; border-left: 1px solid rgba(127, 127, 127, 0.2); white-space: pre-wrap; font-family: ColfaxAI, Arial; font-size: 15px; line-height: 23px;'>Who won the last Kentucky derby and by how much?<span style='background-color: rgba(0, 165, 0, 0.15); border-radius: 3px;' title='0.0'>\n",
       "</span><span style='background-color: rgba(0, 165, 0, 0.15); border-radius: 3px;' title='0.0'>\n",
       "</span><span style='background-color: rgba(0, 165, 0, 0.15); border-radius: 3px;' title='0.0'>The</span><span style='background-color: rgba(0, 165, 0, 0.15); border-radius: 3px;' title='0.0'> last</span><span style='background-color: rgba(0, 165, 0, 0.15); border-radius: 3px;' title='0.0'> Kentucky</span><span style='background-color: rgba(0, 165, 0, 0.15); border-radius: 3px;' title='0.0'> Derby</span><span style='background-color: rgba(0, 165, 0, 0.15); border-radius: 3px;' title='0.0'> was</span><span style='background-color: rgba(0, 165, 0, 0.15); border-radius: 3px;' title='0.0'> won</span><span style='background-color: rgba(0, 165, 0, 0.15); border-radius: 3px;' title='0.0'> by</span><span style='background-color: rgba(0, 165, 0, 0.15); border-radius: 3px;' title='0.0'> Or</span></pre>"
      ],
      "text/plain": [
       "<IPython.core.display.HTML object>"
      ]
     },
     "metadata": {},
     "output_type": "display_data"
    }
   ],
   "source": [
    "from guidance import gen\n",
    "\n",
    "lm = lm + gen(max_tokens=10)"
   ]
  },
  {
   "cell_type": "code",
   "execution_count": 5,
   "id": "78dd1693-2a2b-4136-b8ef-3586acb3fd31",
   "metadata": {},
   "outputs": [
    {
     "data": {
      "text/html": [
       "<pre style='margin: 0px; padding: 0px; padding-left: 8px; margin-left: -8px; border-radius: 0px; border-left: 1px solid rgba(127, 127, 127, 0.2); white-space: pre-wrap; font-family: ColfaxAI, Arial; font-size: 15px; line-height: 23px;'>Q: Who won the last Kentucky derby and by how much?\n",
       "A:<span style='background-color: rgba(0, 165, 0, 0.15); border-radius: 3px;' title='0.0'> The</span><span style='background-color: rgba(0, 165, 0, 0.15); border-radius: 3px;' title='0.0'> last</span><span style='background-color: rgba(0, 165, 0, 0.15); border-radius: 3px;' title='0.0'> Kentucky</span><span style='background-color: rgba(0, 165, 0, 0.15); border-radius: 3px;' title='0.0'> Derby</span><span style='background-color: rgba(0, 165, 0, 0.15); border-radius: 3px;' title='0.0'> was</span><span style='background-color: rgba(0, 165, 0, 0.15); border-radius: 3px;' title='0.0'> won</span><span style='background-color: rgba(0, 165, 0, 0.15); border-radius: 3px;' title='0.0'> by</span><span style='background-color: rgba(0, 165, 0, 0.15); border-radius: 3px;' title='0.0'> Or</span><span style='background-color: rgba(0, 165, 0, 0.15); border-radius: 3px;' title='0.0'>b</span><span style='background-color: rgba(0, 165, 0, 0.15); border-radius: 3px;' title='0.0'>,</span><span style='background-color: rgba(0, 165, 0, 0.15); border-radius: 3px;' title='0.0'> who</span><span style='background-color: rgba(0, 165, 0, 0.15); border-radius: 3px;' title='0.0'> won</span><span style='background-color: rgba(0, 165, 0, 0.15); border-radius: 3px;' title='0.0'> by</span><span style='background-color: rgba(0, 165, 0, 0.15); border-radius: 3px;' title='0.0'> </span><span style='background-color: rgba(0, 165, 0, 0.15); border-radius: 3px;' title='0.0'>2</span><span style='background-color: rgba(0, 165, 0, 0.15); border-radius: 3px;' title='0.0'> </span><span style='background-color: rgba(0, 165, 0, 0.15); border-radius: 3px;' title='0.0'>1</span><span style='background-color: rgba(0, 165, 0, 0.15); border-radius: 3px;' title='0.0'>/</span><span style='background-color: rgba(0, 165, 0, 0.15); border-radius: 3px;' title='0.0'>2</span><span style='background-color: rgba(0, 165, 0, 0.15); border-radius: 3px;' title='0.0'> lengths</span><span style='background-color: rgba(0, 165, 0, 0.15); border-radius: 3px;' title='0.0'> over</span><span style='background-color: rgba(0, 165, 0, 0.15); border-radius: 3px;' title='0.0'> the</span><span style='background-color: rgba(0, 165, 0, 0.15); border-radius: 3px;' title='0.0'> second</span><span style='background-color: rgba(0, 165, 0, 0.15); border-radius: 3px;' title='0.0'>-</span><span style='background-color: rgba(0, 165, 0, 0.15); border-radius: 3px;' title='0.0'>place</span><span style='background-color: rgba(0, 165, 0, 0.15); border-radius: 3px;' title='0.0'> finish</span><span style='background-color: rgba(0, 165, 0, 0.15); border-radius: 3px;' title='0.0'>er</span><span style='background-color: rgba(0, 165, 0, 0.15); border-radius: 3px;' title='0.0'>,</span><span style='background-color: rgba(0, 165, 0, 0.15); border-radius: 3px;' title='0.0'> Golden</span><span style='background-color: rgba(0, 165, 0, 0.15); border-radius: 3px;' title='0.0'> Soul</span><span style='background-color: rgba(0, 165, 0, 0.15); border-radius: 3px;' title='0.0'>.</span><span style='background-color: rgba(0, 165, 0, 0.15); border-radius: 3px;' title='0.0'> The</span><span style='background-color: rgba(0, 165, 0, 0.15); border-radius: 3px;' title='0.0'> race</span><span style='background-color: rgba(0, 165, 0, 0.15); border-radius: 3px;' title='0.0'> was</span><span style='background-color: rgba(0, 165, 0, 0.15); border-radius: 3px;' title='0.0'> held</span><span style='background-color: rgba(0, 165, 0, 0.15); border-radius: 3px;' title='0.0'> on</span><span style='background-color: rgba(0, 165, 0, 0.15); border-radius: 3px;' title='0.0'> May</span><span style='background-color: rgba(0, 165, 0, 0.15); border-radius: 3px;' title='0.0'> </span><span style='background-color: rgba(0, 165, 0, 0.15); border-radius: 3px;' title='0.0'>4</span><span style='background-color: rgba(0, 165, 0, 0.15); border-radius: 3px;' title='0.0'>,</span><span style='background-color: rgba(0, 165, 0, 0.15); border-radius: 3px;' title='0.0'> </span><span style='background-color: rgba(0, 165, 0, 0.15); border-radius: 3px;' title='0.0'>2</span><span style='background-color: rgba(0, 165, 0, 0.15); border-radius: 3px;' title='0.0'>0</span><span style='background-color: rgba(0, 165, 0, 0.15); border-radius: 3px;' title='0.0'>1</span><span style='background-color: rgba(0, 165, 0, 0.15); border-radius: 3px;' title='0.0'>3</span><span style='background-color: rgba(0, 165, 0, 0.15); border-radius: 3px;' title='0.0'>,</span><span style='background-color: rgba(0, 165, 0, 0.15); border-radius: 3px;' title='0.0'> at</span><span style='background-color: rgba(0, 165, 0, 0.15); border-radius: 3px;' title='0.0'> Church</span><span style='background-color: rgba(0, 165, 0, 0.15); border-radius: 3px;' title='0.0'>ill</span><span style='background-color: rgba(0, 165, 0, 0.15); border-radius: 3px;' title='0.0'> Down</span><span style='background-color: rgba(0, 165, 0, 0.15); border-radius: 3px;' title='0.0'>s</span><span style='background-color: rgba(0, 165, 0, 0.15); border-radius: 3px;' title='0.0'> in</span><span style='background-color: rgba(0, 165, 0, 0.15); border-radius: 3px;' title='0.0'> Louis</span><span style='background-color: rgba(0, 165, 0, 0.15); border-radius: 3px;' title='0.0'>ville</span><span style='background-color: rgba(0, 165, 0, 0.15); border-radius: 3px;' title='0.0'>,</span><span style='background-color: rgba(0, 165, 0, 0.15); border-radius: 3px;' title='0.0'> Kentucky</span><span style='background-color: rgba(0, 165, 0, 0.15); border-radius: 3px;' title='0.0'>.</span><span style='background-color: rgba(0, 165, 0, 0.15); border-radius: 3px;' title='0.0'> Or</span><span style='background-color: rgba(0, 165, 0, 0.15); border-radius: 3px;' title='0.0'>b</span><span style='background-color: rgba(0, 165, 0, 0.15); border-radius: 3px;' title='0.0'> was</span><span style='background-color: rgba(0, 165, 0, 0.15); border-radius: 3px;' title='0.0'> r</span><span style='background-color: rgba(0, 165, 0, 0.15); border-radius: 3px;' title='0.0'>idden</span><span style='background-color: rgba(0, 165, 0, 0.15); border-radius: 3px;' title='0.0'> by</span><span style='background-color: rgba(0, 165, 0, 0.15); border-radius: 3px;' title='0.0'> j</span><span style='background-color: rgba(0, 165, 0, 0.15); border-radius: 3px;' title='0.0'>ockey</span><span style='background-color: rgba(0, 165, 0, 0.15); border-radius: 3px;' title='0.0'> Jo</span><span style='background-color: rgba(0, 165, 0, 0.15); border-radius: 3px;' title='0.0'>el</span><span style='background-color: rgba(0, 165, 0, 0.15); border-radius: 3px;' title='0.0'> Ros</span><span style='background-color: rgba(0, 165, 0, 0.15); border-radius: 3px;' title='0.0'>ario</span><span style='background-color: rgba(0, 165, 0, 0.15); border-radius: 3px;' title='0.0'> and</span><span style='background-color: rgba(0, 165, 0, 0.15); border-radius: 3px;' title='0.0'> was</span><span style='background-color: rgba(0, 165, 0, 0.15); border-radius: 3px;' title='0.0'> trained</span><span style='background-color: rgba(0, 165, 0, 0.15); border-radius: 3px;' title='0.0'> by</span><span style='background-color: rgba(0, 165, 0, 0.15); border-radius: 3px;' title='0.0'> Claude</span><span style='background-color: rgba(0, 165, 0, 0.15); border-radius: 3px;' title='0.0'> &quot;</span><span style='background-color: rgba(0, 165, 0, 0.15); border-radius: 3px;' title='0.0'>Sh</span><span style='background-color: rgba(0, 165, 0, 0.15); border-radius: 3px;' title='0.0'>ug</span><span style='background-color: rgba(0, 165, 0, 0.15); border-radius: 3px;' title='0.0'>&quot;</span><span style='background-color: rgba(0, 165, 0, 0.15); border-radius: 3px;' title='0.0'> McG</span><span style='background-color: rgba(0, 165, 0, 0.15); border-radius: 3px;' title='0.0'>aug</span><span style='background-color: rgba(0, 165, 0, 0.15); border-radius: 3px;' title='0.0'>he</span><span style='background-color: rgba(0, 165, 0, 0.15); border-radius: 3px;' title='0.0'>y</span><span style='background-color: rgba(0, 165, 0, 0.15); border-radius: 3px;' title='0.0'>.</span><span style='background-color: rgba(0, 165, 0, 0.15); border-radius: 3px;' title='0.0'> The</span><span style='background-color: rgba(0, 165, 0, 0.15); border-radius: 3px;' title='0.0'> winning</span><span style='background-color: rgba(0, 165, 0, 0.15); border-radius: 3px;' title='0.0'> time</span><span style='background-color: rgba(0, 165, 0, 0.15); border-radius: 3px;' title='0.0'> was</span><span style='background-color: rgba(0, 165, 0, 0.15); border-radius: 3px;' title='0.0'> </span><span style='background-color: rgba(0, 165, 0, 0.15); border-radius: 3px;' title='0.0'>2</span><span style='background-color: rgba(0, 165, 0, 0.15); border-radius: 3px;' title='0.0'>:</span><span style='background-color: rgba(0, 165, 0, 0.15); border-radius: 3px;' title='0.0'>0</span><span style='background-color: rgba(0, 165, 0, 0.15); border-radius: 3px;' title='0.0'>2</span><span style='background-color: rgba(0, 165, 0, 0.15); border-radius: 3px;' title='0.0'>.</span><span style='background-color: rgba(0, 165, 0, 0.15); border-radius: 3px;' title='0.0'>8</span><span style='background-color: rgba(0, 165, 0, 0.15); border-radius: 3px;' title='0.0'>9</span><span style='background-color: rgba(0, 165, 0, 0.15); border-radius: 3px;' title='0.0'> for</span><span style='background-color: rgba(0, 165, 0, 0.15); border-radius: 3px;' title='0.0'> the</span><span style='background-color: rgba(0, 165, 0, 0.15); border-radius: 3px;' title='0.0'> </span><span style='background-color: rgba(0, 165, 0, 0.15); border-radius: 3px;' title='0.0'>1</span><span style='background-color: rgba(0, 165, 0, 0.15); border-radius: 3px;' title='0.0'> </span><span style='background-color: rgba(0, 165, 0, 0.15); border-radius: 3px;' title='0.0'>1</span><span style='background-color: rgba(0, 165, 0, 0.15); border-radius: 3px;' title='0.0'>/</span><span style='background-color: rgba(0, 165, 0, 0.15); border-radius: 3px;' title='0.0'>4</span><span style='background-color: rgba(0, 165, 0, 0.15); border-radius: 3px;' title='0.0'> miles</span><span style='background-color: rgba(0, 165, 0, 0.15); border-radius: 3px;' title='0.0'> race</span><span style='background-color: rgba(0, 165, 0, 0.15); border-radius: 3px;' title='0.0'>.</span></pre>"
      ],
      "text/plain": [
       "<guidance.models.transformers._transformers.Transformers at 0x7f592c33a8d0>"
      ]
     },
     "execution_count": 5,
     "metadata": {},
     "output_type": "execute_result"
    }
   ],
   "source": [
    "llama2 + '''\\\n",
    "Q: Who won the last Kentucky derby and by how much?\n",
    "A:''' + gen()"
   ]
  },
  {
   "cell_type": "code",
   "execution_count": 6,
   "id": "22a56c99-cee4-45c3-bf63-cb7b987ab59d",
   "metadata": {},
   "outputs": [
    {
     "data": {
      "text/html": [
       "<pre style='margin: 0px; padding: 0px; padding-left: 8px; margin-left: -8px; border-radius: 0px; border-left: 1px solid rgba(127, 127, 127, 0.2); white-space: pre-wrap; font-family: ColfaxAI, Arial; font-size: 15px; line-height: 23px;'>Q: Who won the last Kentucky derby and by how much?\n",
       "A:<span style='background-color: rgba(0, 165, 0, 0.15); border-radius: 3px;' title='0.0'> The</span><span style='background-color: rgba(0, 165, 0, 0.15); border-radius: 3px;' title='0.0'> last</span><span style='background-color: rgba(0, 165, 0, 0.15); border-radius: 3px;' title='0.0'> Kentucky</span><span style='background-color: rgba(0, 165, 0, 0.15); border-radius: 3px;' title='0.0'> Derby</span><span style='background-color: rgba(0, 165, 0, 0.15); border-radius: 3px;' title='0.0'> was</span><span style='background-color: rgba(0, 165, 0, 0.15); border-radius: 3px;' title='0.0'> won</span><span style='background-color: rgba(0, 165, 0, 0.15); border-radius: 3px;' title='0.0'> by</span><span style='background-color: rgba(0, 165, 0, 0.15); border-radius: 3px;' title='0.0'> Or</span><span style='background-color: rgba(0, 165, 0, 0.15); border-radius: 3px;' title='0.0'>b</span><span style='background-color: rgba(0, 165, 0, 0.15); border-radius: 3px;' title='0.0'>,</span><span style='background-color: rgba(0, 165, 0, 0.15); border-radius: 3px;' title='0.0'> who</span><span style='background-color: rgba(0, 165, 0, 0.15); border-radius: 3px;' title='0.0'> won</span><span style='background-color: rgba(0, 165, 0, 0.15); border-radius: 3px;' title='0.0'> by</span><span style='background-color: rgba(0, 165, 0, 0.15); border-radius: 3px;' title='0.0'> </span><span style='background-color: rgba(0, 165, 0, 0.15); border-radius: 3px;' title='0.0'>2</span><span style='background-color: rgba(0, 165, 0, 0.15); border-radius: 3px;' title='0.0'> </span><span style='background-color: rgba(0, 165, 0, 0.15); border-radius: 3px;' title='0.0'>1</span><span style='background-color: rgba(0, 165, 0, 0.15); border-radius: 3px;' title='0.0'>/</span><span style='background-color: rgba(0, 165, 0, 0.15); border-radius: 3px;' title='0.0'>2</span><span style='background-color: rgba(0, 165, 0, 0.15); border-radius: 3px;' title='0.0'> lengths</span><span style='background-color: rgba(0, 165, 0, 0.15); border-radius: 3px;' title='0.0'> over</span><span style='background-color: rgba(0, 165, 0, 0.15); border-radius: 3px;' title='0.0'> the</span><span style='background-color: rgba(0, 165, 0, 0.15); border-radius: 3px;' title='0.0'> second</span><span style='background-color: rgba(0, 165, 0, 0.15); border-radius: 3px;' title='0.0'>-</span><span style='background-color: rgba(0, 165, 0, 0.15); border-radius: 3px;' title='0.0'>place</span><span style='background-color: rgba(0, 165, 0, 0.15); border-radius: 3px;' title='0.0'> finish</span><span style='background-color: rgba(0, 165, 0, 0.15); border-radius: 3px;' title='0.0'>er</span><span style='background-color: rgba(0, 165, 0, 0.15); border-radius: 3px;' title='0.0'>,</span><span style='background-color: rgba(0, 165, 0, 0.15); border-radius: 3px;' title='0.0'> Golden</span><span style='background-color: rgba(0, 165, 0, 0.15); border-radius: 3px;' title='0.0'> Soul</span><span style='background-color: rgba(0, 165, 0, 0.15); border-radius: 3px;' title='0.0'>.</span><span style='background-color: rgba(0, 165, 0, 0.15); border-radius: 3px;' title='0.0'> The</span><span style='background-color: rgba(0, 165, 0, 0.15); border-radius: 3px;' title='0.0'> race</span><span style='background-color: rgba(0, 165, 0, 0.15); border-radius: 3px;' title='0.0'> was</span><span style='background-color: rgba(0, 165, 0, 0.15); border-radius: 3px;' title='0.0'> held</span><span style='background-color: rgba(0, 165, 0, 0.15); border-radius: 3px;' title='0.0'> on</span><span style='background-color: rgba(0, 165, 0, 0.15); border-radius: 3px;' title='0.0'> May</span><span style='background-color: rgba(0, 165, 0, 0.15); border-radius: 3px;' title='0.0'> </span><span style='background-color: rgba(0, 165, 0, 0.15); border-radius: 3px;' title='0.0'>4</span><span style='background-color: rgba(0, 165, 0, 0.15); border-radius: 3px;' title='0.0'>,</span><span style='background-color: rgba(0, 165, 0, 0.15); border-radius: 3px;' title='0.0'> </span><span style='background-color: rgba(0, 165, 0, 0.15); border-radius: 3px;' title='0.0'>2</span><span style='background-color: rgba(0, 165, 0, 0.15); border-radius: 3px;' title='0.0'>0</span><span style='background-color: rgba(0, 165, 0, 0.15); border-radius: 3px;' title='0.0'>1</span><span style='background-color: rgba(0, 165, 0, 0.15); border-radius: 3px;' title='0.0'>3</span><span style='background-color: rgba(0, 165, 0, 0.15); border-radius: 3px;' title='0.0'>,</span><span style='background-color: rgba(0, 165, 0, 0.15); border-radius: 3px;' title='0.0'> at</span><span style='background-color: rgba(0, 165, 0, 0.15); border-radius: 3px;' title='0.0'> Church</span><span style='background-color: rgba(0, 165, 0, 0.15); border-radius: 3px;' title='0.0'>ill</span><span style='background-color: rgba(0, 165, 0, 0.15); border-radius: 3px;' title='0.0'> Down</span><span style='background-color: rgba(0, 165, 0, 0.15); border-radius: 3px;' title='0.0'>s</span><span style='background-color: rgba(0, 165, 0, 0.15); border-radius: 3px;' title='0.0'> in</span><span style='background-color: rgba(0, 165, 0, 0.15); border-radius: 3px;' title='0.0'> Louis</span><span style='background-color: rgba(0, 165, 0, 0.15); border-radius: 3px;' title='0.0'>ville</span><span style='background-color: rgba(0, 165, 0, 0.15); border-radius: 3px;' title='0.0'>,</span><span style='background-color: rgba(0, 165, 0, 0.15); border-radius: 3px;' title='0.0'> Kentucky</span><span style='background-color: rgba(0, 165, 0, 0.15); border-radius: 3px;' title='0.0'>.</span><span style='background-color: rgba(0, 165, 0, 0.15); border-radius: 3px;' title='0.0'> Or</span><span style='background-color: rgba(0, 165, 0, 0.15); border-radius: 3px;' title='0.0'>b</span><span style='background-color: rgba(0, 165, 0, 0.15); border-radius: 3px;' title='0.0'> was</span><span style='background-color: rgba(0, 165, 0, 0.15); border-radius: 3px;' title='0.0'> r</span><span style='background-color: rgba(0, 165, 0, 0.15); border-radius: 3px;' title='0.0'>idden</span><span style='background-color: rgba(0, 165, 0, 0.15); border-radius: 3px;' title='0.0'> by</span><span style='background-color: rgba(0, 165, 0, 0.15); border-radius: 3px;' title='0.0'> j</span><span style='background-color: rgba(0, 165, 0, 0.15); border-radius: 3px;' title='0.0'>ockey</span><span style='background-color: rgba(0, 165, 0, 0.15); border-radius: 3px;' title='0.0'> Jo</span><span style='background-color: rgba(0, 165, 0, 0.15); border-radius: 3px;' title='0.0'>el</span><span style='background-color: rgba(0, 165, 0, 0.15); border-radius: 3px;' title='0.0'> Ros</span><span style='background-color: rgba(0, 165, 0, 0.15); border-radius: 3px;' title='0.0'>ario</span><span style='background-color: rgba(0, 165, 0, 0.15); border-radius: 3px;' title='0.0'> and</span><span style='background-color: rgba(0, 165, 0, 0.15); border-radius: 3px;' title='0.0'> was</span><span style='background-color: rgba(0, 165, 0, 0.15); border-radius: 3px;' title='0.0'> trained</span><span style='background-color: rgba(0, 165, 0, 0.15); border-radius: 3px;' title='0.0'> by</span><span style='background-color: rgba(0, 165, 0, 0.15); border-radius: 3px;' title='0.0'> Claude</span><span style='background-color: rgba(0, 165, 0, 0.15); border-radius: 3px;' title='0.0'> &quot;</span><span style='background-color: rgba(0, 165, 0, 0.15); border-radius: 3px;' title='0.0'>Sh</span><span style='background-color: rgba(0, 165, 0, 0.15); border-radius: 3px;' title='0.0'>ug</span><span style='background-color: rgba(0, 165, 0, 0.15); border-radius: 3px;' title='0.0'>&quot;</span><span style='background-color: rgba(0, 165, 0, 0.15); border-radius: 3px;' title='0.0'> McG</span><span style='background-color: rgba(0, 165, 0, 0.15); border-radius: 3px;' title='0.0'>aug</span><span style='background-color: rgba(0, 165, 0, 0.15); border-radius: 3px;' title='0.0'>he</span><span style='background-color: rgba(0, 165, 0, 0.15); border-radius: 3px;' title='0.0'>y</span><span style='background-color: rgba(0, 165, 0, 0.15); border-radius: 3px;' title='0.0'>.</span><span style='background-color: rgba(0, 165, 0, 0.15); border-radius: 3px;' title='0.0'> The</span><span style='background-color: rgba(0, 165, 0, 0.15); border-radius: 3px;' title='0.0'> winning</span><span style='background-color: rgba(0, 165, 0, 0.15); border-radius: 3px;' title='0.0'> time</span><span style='background-color: rgba(0, 165, 0, 0.15); border-radius: 3px;' title='0.0'> was</span><span style='background-color: rgba(0, 165, 0, 0.15); border-radius: 3px;' title='0.0'> </span><span style='background-color: rgba(0, 165, 0, 0.15); border-radius: 3px;' title='0.0'>2</span><span style='background-color: rgba(0, 165, 0, 0.15); border-radius: 3px;' title='0.0'>:</span><span style='background-color: rgba(0, 165, 0, 0.15); border-radius: 3px;' title='0.0'>0</span><span style='background-color: rgba(0, 165, 0, 0.15); border-radius: 3px;' title='0.0'>2</span><span style='background-color: rgba(0, 165, 0, 0.15); border-radius: 3px;' title='0.0'>.</span><span style='background-color: rgba(0, 165, 0, 0.15); border-radius: 3px;' title='0.0'>8</span><span style='background-color: rgba(0, 165, 0, 0.15); border-radius: 3px;' title='0.0'>9</span><span style='background-color: rgba(0, 165, 0, 0.15); border-radius: 3px;' title='0.0'> for</span><span style='background-color: rgba(0, 165, 0, 0.15); border-radius: 3px;' title='0.0'> the</span><span style='background-color: rgba(0, 165, 0, 0.15); border-radius: 3px;' title='0.0'> </span><span style='background-color: rgba(0, 165, 0, 0.15); border-radius: 3px;' title='0.0'>1</span><span style='background-color: rgba(0, 165, 0, 0.15); border-radius: 3px;' title='0.0'> </span><span style='background-color: rgba(0, 165, 0, 0.15); border-radius: 3px;' title='0.0'>1</span><span style='background-color: rgba(0, 165, 0, 0.15); border-radius: 3px;' title='0.0'>/</span><span style='background-color: rgba(0, 165, 0, 0.15); border-radius: 3px;' title='0.0'>4</span><span style='background-color: rgba(0, 165, 0, 0.15); border-radius: 3px;' title='0.0'> miles</span><span style='background-color: rgba(0, 165, 0, 0.15); border-radius: 3px;' title='0.0'> race</span><span style='background-color: rgba(0, 165, 0, 0.15); border-radius: 3px;' title='0.0'>.</span></pre>"
      ],
      "text/plain": [
       "<guidance.models.transformers._transformers.Transformers at 0x7f592c3226d0>"
      ]
     },
     "execution_count": 6,
     "metadata": {},
     "output_type": "execute_result"
    }
   ],
   "source": [
    "query = \"Who won the last Kentucky derby and by how much?\"\n",
    "llama2 + f'''\\\n",
    "Q: {query}\n",
    "A: {gen(stop=\"Q:\")}'''"
   ]
  },
  {
   "cell_type": "code",
   "execution_count": 14,
   "id": "b8dc157a-3c34-4d82-8c1c-4ac96472e336",
   "metadata": {},
   "outputs": [
    {
     "data": {
      "text/html": [
       "<pre style='margin: 0px; padding: 0px; padding-left: 8px; margin-left: -8px; border-radius: 0px; border-left: 1px solid rgba(127, 127, 127, 0.2); white-space: pre-wrap; font-family: ColfaxAI, Arial; font-size: 15px; line-height: 23px;'>Q: Who won the last Kentucky derby and by how much?\n",
       "A:<span style='background-color: rgba(0, 165, 0, 0.15); border-radius: 3px;' title='0.0'> The</span><span style='background-color: rgba(0, 165, 0, 0.15); border-radius: 3px;' title='0.0'> last</span><span style='background-color: rgba(0, 165, 0, 0.15); border-radius: 3px;' title='0.0'> Kentucky</span><span style='background-color: rgba(0, 165, 0, 0.15); border-radius: 3px;' title='0.0'> Derby</span><span style='background-color: rgba(0, 165, 0, 0.15); border-radius: 3px;' title='0.0'> was</span><span style='background-color: rgba(0, 165, 0, 0.15); border-radius: 3px;' title='0.0'> won</span><span style='background-color: rgba(0, 165, 0, 0.15); border-radius: 3px;' title='0.0'> by</span><span style='background-color: rgba(0, 165, 0, 0.15); border-radius: 3px;' title='0.0'> Or</span><span style='background-color: rgba(0, 165, 0, 0.15); border-radius: 3px;' title='0.0'>b</span><span style='background-color: rgba(0, 165, 0, 0.15); border-radius: 3px;' title='0.0'>,</span><span style='background-color: rgba(0, 165, 0, 0.15); border-radius: 3px;' title='0.0'> who</span><span style='background-color: rgba(0, 165, 0, 0.15); border-radius: 3px;' title='0.0'> won</span><span style='background-color: rgba(0, 165, 0, 0.15); border-radius: 3px;' title='0.0'> by</span><span style='background-color: rgba(0, 165, 0, 0.15); border-radius: 3px;' title='0.0'> </span><span style='background-color: rgba(0, 165, 0, 0.15); border-radius: 3px;' title='0.0'>2</span><span style='background-color: rgba(0, 165, 0, 0.15); border-radius: 3px;' title='0.0'> </span><span style='background-color: rgba(0, 165, 0, 0.15); border-radius: 3px;' title='0.0'>1</span><span style='background-color: rgba(0, 165, 0, 0.15); border-radius: 3px;' title='0.0'>/</span><span style='background-color: rgba(0, 165, 0, 0.15); border-radius: 3px;' title='0.0'>2</span><span style='background-color: rgba(0, 165, 0, 0.15); border-radius: 3px;' title='0.0'> lengths</span><span style='background-color: rgba(0, 165, 0, 0.15); border-radius: 3px;' title='0.0'> over</span><span style='background-color: rgba(0, 165, 0, 0.15); border-radius: 3px;' title='0.0'> the</span><span style='background-color: rgba(0, 165, 0, 0.15); border-radius: 3px;' title='0.0'> second</span><span style='background-color: rgba(0, 165, 0, 0.15); border-radius: 3px;' title='0.0'>-</span><span style='background-color: rgba(0, 165, 0, 0.15); border-radius: 3px;' title='0.0'>place</span><span style='background-color: rgba(0, 165, 0, 0.15); border-radius: 3px;' title='0.0'> finish</span><span style='background-color: rgba(0, 165, 0, 0.15); border-radius: 3px;' title='0.0'>er</span><span style='background-color: rgba(0, 165, 0, 0.15); border-radius: 3px;' title='0.0'>,</span><span style='background-color: rgba(0, 165, 0, 0.15); border-radius: 3px;' title='0.0'> Golden</span><span style='background-color: rgba(0, 165, 0, 0.15); border-radius: 3px;' title='0.0'> Soul</span><span style='background-color: rgba(0, 165, 0, 0.15); border-radius: 3px;' title='0.0'>.</span><span style='background-color: rgba(0, 165, 0, 0.15); border-radius: 3px;' title='0.0'> The</span><span style='background-color: rgba(0, 165, 0, 0.15); border-radius: 3px;' title='0.0'> race</span><span style='background-color: rgba(0, 165, 0, 0.15); border-radius: 3px;' title='0.0'> was</span><span style='background-color: rgba(0, 165, 0, 0.15); border-radius: 3px;' title='0.0'> held</span><span style='background-color: rgba(0, 165, 0, 0.15); border-radius: 3px;' title='0.0'> on</span><span style='background-color: rgba(0, 165, 0, 0.15); border-radius: 3px;' title='0.0'> May</span><span style='background-color: rgba(0, 165, 0, 0.15); border-radius: 3px;' title='0.0'> </span><span style='background-color: rgba(0, 165, 0, 0.15); border-radius: 3px;' title='0.0'>4</span><span style='background-color: rgba(0, 165, 0, 0.15); border-radius: 3px;' title='0.0'>,</span><span style='background-color: rgba(0, 165, 0, 0.15); border-radius: 3px;' title='0.0'> </span><span style='background-color: rgba(0, 165, 0, 0.15); border-radius: 3px;' title='0.0'>2</span><span style='background-color: rgba(0, 165, 0, 0.15); border-radius: 3px;' title='0.0'>0</span><span style='background-color: rgba(0, 165, 0, 0.15); border-radius: 3px;' title='0.0'>1</span><span style='background-color: rgba(0, 165, 0, 0.15); border-radius: 3px;' title='0.0'>3</span><span style='background-color: rgba(0, 165, 0, 0.15); border-radius: 3px;' title='0.0'>,</span><span style='background-color: rgba(0, 165, 0, 0.15); border-radius: 3px;' title='0.0'> at</span><span style='background-color: rgba(0, 165, 0, 0.15); border-radius: 3px;' title='0.0'> Church</span><span style='background-color: rgba(0, 165, 0, 0.15); border-radius: 3px;' title='0.0'>ill</span><span style='background-color: rgba(0, 165, 0, 0.15); border-radius: 3px;' title='0.0'> Down</span><span style='background-color: rgba(0, 165, 0, 0.15); border-radius: 3px;' title='0.0'>s</span><span style='background-color: rgba(0, 165, 0, 0.15); border-radius: 3px;' title='0.0'> in</span><span style='background-color: rgba(0, 165, 0, 0.15); border-radius: 3px;' title='0.0'> Louis</span><span style='background-color: rgba(0, 165, 0, 0.15); border-radius: 3px;' title='0.0'>ville</span><span style='background-color: rgba(0, 165, 0, 0.15); border-radius: 3px;' title='0.0'>,</span><span style='background-color: rgba(0, 165, 0, 0.15); border-radius: 3px;' title='0.0'> Kentucky</span><span style='background-color: rgba(0, 165, 0, 0.15); border-radius: 3px;' title='0.0'>.</span><span style='background-color: rgba(0, 165, 0, 0.15); border-radius: 3px;' title='0.0'> Or</span><span style='background-color: rgba(0, 165, 0, 0.15); border-radius: 3px;' title='0.0'>b</span><span style='background-color: rgba(0, 165, 0, 0.15); border-radius: 3px;' title='0.0'> was</span><span style='background-color: rgba(0, 165, 0, 0.15); border-radius: 3px;' title='0.0'> r</span><span style='background-color: rgba(0, 165, 0, 0.15); border-radius: 3px;' title='0.0'>idden</span><span style='background-color: rgba(0, 165, 0, 0.15); border-radius: 3px;' title='0.0'> by</span><span style='background-color: rgba(0, 165, 0, 0.15); border-radius: 3px;' title='0.0'> j</span><span style='background-color: rgba(0, 165, 0, 0.15); border-radius: 3px;' title='0.0'>ockey</span><span style='background-color: rgba(0, 165, 0, 0.15); border-radius: 3px;' title='0.0'> Jo</span><span style='background-color: rgba(0, 165, 0, 0.15); border-radius: 3px;' title='0.0'>el</span><span style='background-color: rgba(0, 165, 0, 0.15); border-radius: 3px;' title='0.0'> Ros</span><span style='background-color: rgba(0, 165, 0, 0.15); border-radius: 3px;' title='0.0'>ario</span><span style='background-color: rgba(0, 165, 0, 0.15); border-radius: 3px;' title='0.0'> and</span><span style='background-color: rgba(0, 165, 0, 0.15); border-radius: 3px;' title='0.0'> was</span><span style='background-color: rgba(0, 165, 0, 0.15); border-radius: 3px;' title='0.0'> trained</span><span style='background-color: rgba(0, 165, 0, 0.15); border-radius: 3px;' title='0.0'> by</span><span style='background-color: rgba(0, 165, 0, 0.15); border-radius: 3px;' title='0.0'> Claude</span><span style='background-color: rgba(0, 165, 0, 0.15); border-radius: 3px;' title='0.0'> &quot;</span><span style='background-color: rgba(0, 165, 0, 0.15); border-radius: 3px;' title='0.0'>Sh</span><span style='background-color: rgba(0, 165, 0, 0.15); border-radius: 3px;' title='0.0'>ug</span><span style='background-color: rgba(0, 165, 0, 0.15); border-radius: 3px;' title='0.0'>&quot;</span><span style='background-color: rgba(0, 165, 0, 0.15); border-radius: 3px;' title='0.0'> McG</span><span style='background-color: rgba(0, 165, 0, 0.15); border-radius: 3px;' title='0.0'>aug</span><span style='background-color: rgba(0, 165, 0, 0.15); border-radius: 3px;' title='0.0'>he</span><span style='background-color: rgba(0, 165, 0, 0.15); border-radius: 3px;' title='0.0'>y</span><span style='background-color: rgba(0, 165, 0, 0.15); border-radius: 3px;' title='0.0'>.</span><span style='background-color: rgba(0, 165, 0, 0.15); border-radius: 3px;' title='0.0'> The</span><span style='background-color: rgba(0, 165, 0, 0.15); border-radius: 3px;' title='0.0'> winning</span><span style='background-color: rgba(0, 165, 0, 0.15); border-radius: 3px;' title='0.0'> time</span><span style='background-color: rgba(0, 165, 0, 0.15); border-radius: 3px;' title='0.0'> was</span><span style='background-color: rgba(0, 165, 0, 0.15); border-radius: 3px;' title='0.0'> </span><span style='background-color: rgba(0, 165, 0, 0.15); border-radius: 3px;' title='0.0'>2</span><span style='background-color: rgba(0, 165, 0, 0.15); border-radius: 3px;' title='0.0'>:</span><span style='background-color: rgba(0, 165, 0, 0.15); border-radius: 3px;' title='0.0'>0</span><span style='background-color: rgba(0, 165, 0, 0.15); border-radius: 3px;' title='0.0'>2</span><span style='background-color: rgba(0, 165, 0, 0.15); border-radius: 3px;' title='0.0'>.</span><span style='background-color: rgba(0, 165, 0, 0.15); border-radius: 3px;' title='0.0'>8</span><span style='background-color: rgba(0, 165, 0, 0.15); border-radius: 3px;' title='0.0'>9</span><span style='background-color: rgba(0, 165, 0, 0.15); border-radius: 3px;' title='0.0'> for</span><span style='background-color: rgba(0, 165, 0, 0.15); border-radius: 3px;' title='0.0'> the</span><span style='background-color: rgba(0, 165, 0, 0.15); border-radius: 3px;' title='0.0'> </span><span style='background-color: rgba(0, 165, 0, 0.15); border-radius: 3px;' title='0.0'>1</span><span style='background-color: rgba(0, 165, 0, 0.15); border-radius: 3px;' title='0.0'> </span><span style='background-color: rgba(0, 165, 0, 0.15); border-radius: 3px;' title='0.0'>1</span><span style='background-color: rgba(0, 165, 0, 0.15); border-radius: 3px;' title='0.0'>/</span><span style='background-color: rgba(0, 165, 0, 0.15); border-radius: 3px;' title='0.0'>4</span><span style='background-color: rgba(0, 165, 0, 0.15); border-radius: 3px;' title='0.0'> miles</span><span style='background-color: rgba(0, 165, 0, 0.15); border-radius: 3px;' title='0.0'> race</span><span style='background-color: rgba(0, 165, 0, 0.15); border-radius: 3px;' title='0.0'>.</span></pre>"
      ],
      "text/plain": [
       "<IPython.core.display.HTML object>"
      ]
     },
     "metadata": {},
     "output_type": "display_data"
    }
   ],
   "source": [
    "query = \"Who won the last Kentucky derby and by how much?\"\n",
    "lm = llama2 + f'''\\\n",
    "Q: {query}\n",
    "A: {gen(name = \"answer\",stop=\"Q:\")}'''"
   ]
  },
  {
   "cell_type": "code",
   "execution_count": 15,
   "id": "881191e5-6474-485d-920c-19398765880a",
   "metadata": {},
   "outputs": [
    {
     "data": {
      "text/plain": [
       "'The last Kentucky Derby was won by Orb, who won by 2 1/2 lengths over the second-place finisher, Golden Soul. The race was held on May 4, 2013, at Churchill Downs in Louisville, Kentucky. Orb was ridden by jockey Joel Rosario and was trained by Claude \"Shug\" McGaughey. The winning time was 2:02.89 for the 1 1/4 miles race.'"
      ]
     },
     "execution_count": 15,
     "metadata": {},
     "output_type": "execute_result"
    }
   ],
   "source": [
    "lm[\"answer\"]"
   ]
  },
  {
   "cell_type": "code",
   "execution_count": 8,
   "id": "f9abb2bf-907e-4d05-9d1b-4a80b32b4fbc",
   "metadata": {},
   "outputs": [
    {
     "data": {
      "text/html": [
       "<pre style='margin: 0px; padding: 0px; padding-left: 8px; margin-left: -8px; border-radius: 0px; border-left: 1px solid rgba(127, 127, 127, 0.2); white-space: pre-wrap; font-family: ColfaxAI, Arial; font-size: 15px; line-height: 23px;'>Q: Who won the last Kentucky derby and by how much?\n",
       "A:<span style='background-color: rgba(0, 165, 0, 0.15); border-radius: 3px;' title='0.0'> The</span><span style='background-color: rgba(0, 165, 0, 0.15); border-radius: 3px;' title='0.0'> last</span><span style='background-color: rgba(0, 165, 0, 0.15); border-radius: 3px;' title='0.0'> Kentucky</span><span style='background-color: rgba(0, 165, 0, 0.15); border-radius: 3px;' title='0.0'> Derby</span><span style='background-color: rgba(0, 165, 0, 0.15); border-radius: 3px;' title='0.0'> was</span><span style='background-color: rgba(0, 165, 0, 0.15); border-radius: 3px;' title='0.0'> won</span><span style='background-color: rgba(0, 165, 0, 0.15); border-radius: 3px;' title='0.0'> by</span><span style='background-color: rgba(0, 165, 0, 0.15); border-radius: 3px;' title='0.0'> Or</span><span style='background-color: rgba(0, 165, 0, 0.15); border-radius: 3px;' title='0.0'>b</span><span style='background-color: rgba(0, 165, 0, 0.15); border-radius: 3px;' title='0.0'>,</span><span style='background-color: rgba(0, 165, 0, 0.15); border-radius: 3px;' title='0.0'> who</span><span style='background-color: rgba(0, 165, 0, 0.15); border-radius: 3px;' title='0.0'> won</span><span style='background-color: rgba(0, 165, 0, 0.15); border-radius: 3px;' title='0.0'> by</span><span style='background-color: rgba(0, 165, 0, 0.15); border-radius: 3px;' title='0.0'> </span><span style='background-color: rgba(0, 165, 0, 0.15); border-radius: 3px;' title='0.0'>2</span><span style='background-color: rgba(0, 165, 0, 0.15); border-radius: 3px;' title='0.0'> </span><span style='background-color: rgba(0, 165, 0, 0.15); border-radius: 3px;' title='0.0'>1</span><span style='background-color: rgba(0, 165, 0, 0.15); border-radius: 3px;' title='0.0'>/</span><span style='background-color: rgba(0, 165, 0, 0.15); border-radius: 3px;' title='0.0'>2</span><span style='background-color: rgba(0, 165, 0, 0.15); border-radius: 3px;' title='0.0'> lengths</span><span style='background-color: rgba(0, 165, 0, 0.15); border-radius: 3px;' title='0.0'> over</span><span style='background-color: rgba(0, 165, 0, 0.15); border-radius: 3px;' title='0.0'> the</span><span style='background-color: rgba(0, 165, 0, 0.15); border-radius: 3px;' title='0.0'> second</span><span style='background-color: rgba(0, 165, 0, 0.15); border-radius: 3px;' title='0.0'>-</span><span style='background-color: rgba(0, 165, 0, 0.15); border-radius: 3px;' title='0.0'>place</span><span style='background-color: rgba(0, 165, 0, 0.15); border-radius: 3px;' title='0.0'> finish</span><span style='background-color: rgba(0, 165, 0, 0.15); border-radius: 3px;' title='0.0'>er</span><span style='background-color: rgba(0, 165, 0, 0.15); border-radius: 3px;' title='0.0'>,</span><span style='background-color: rgba(0, 165, 0, 0.15); border-radius: 3px;' title='0.0'> Golden</span><span style='background-color: rgba(0, 165, 0, 0.15); border-radius: 3px;' title='0.0'> Soul</span><span style='background-color: rgba(0, 165, 0, 0.15); border-radius: 3px;' title='0.0'>.</span><span style='background-color: rgba(0, 165, 0, 0.15); border-radius: 3px;' title='0.0'> The</span><span style='background-color: rgba(0, 165, 0, 0.15); border-radius: 3px;' title='0.0'> race</span><span style='background-color: rgba(0, 165, 0, 0.15); border-radius: 3px;' title='0.0'> was</span><span style='background-color: rgba(0, 165, 0, 0.15); border-radius: 3px;' title='0.0'> held</span><span style='background-color: rgba(0, 165, 0, 0.15); border-radius: 3px;' title='0.0'> on</span><span style='background-color: rgba(0, 165, 0, 0.15); border-radius: 3px;' title='0.0'> May</span><span style='background-color: rgba(0, 165, 0, 0.15); border-radius: 3px;' title='0.0'> </span><span style='background-color: rgba(0, 165, 0, 0.15); border-radius: 3px;' title='0.0'>4</span><span style='background-color: rgba(0, 165, 0, 0.15); border-radius: 3px;' title='0.0'>,</span><span style='background-color: rgba(0, 165, 0, 0.15); border-radius: 3px;' title='0.0'> </span><span style='background-color: rgba(0, 165, 0, 0.15); border-radius: 3px;' title='0.0'>2</span><span style='background-color: rgba(0, 165, 0, 0.15); border-radius: 3px;' title='0.0'>0</span><span style='background-color: rgba(0, 165, 0, 0.15); border-radius: 3px;' title='0.0'>1</span><span style='background-color: rgba(0, 165, 0, 0.15); border-radius: 3px;' title='0.0'>3</span><span style='background-color: rgba(0, 165, 0, 0.15); border-radius: 3px;' title='0.0'>,</span><span style='background-color: rgba(0, 165, 0, 0.15); border-radius: 3px;' title='0.0'> at</span><span style='background-color: rgba(0, 165, 0, 0.15); border-radius: 3px;' title='0.0'> Church</span><span style='background-color: rgba(0, 165, 0, 0.15); border-radius: 3px;' title='0.0'>ill</span><span style='background-color: rgba(0, 165, 0, 0.15); border-radius: 3px;' title='0.0'> Down</span><span style='background-color: rgba(0, 165, 0, 0.15); border-radius: 3px;' title='0.0'>s</span><span style='background-color: rgba(0, 165, 0, 0.15); border-radius: 3px;' title='0.0'> in</span><span style='background-color: rgba(0, 165, 0, 0.15); border-radius: 3px;' title='0.0'> Louis</span><span style='background-color: rgba(0, 165, 0, 0.15); border-radius: 3px;' title='0.0'>ville</span><span style='background-color: rgba(0, 165, 0, 0.15); border-radius: 3px;' title='0.0'>,</span><span style='background-color: rgba(0, 165, 0, 0.15); border-radius: 3px;' title='0.0'> Kentucky</span><span style='background-color: rgba(0, 165, 0, 0.15); border-radius: 3px;' title='0.0'>.</span><span style='background-color: rgba(0, 165, 0, 0.15); border-radius: 3px;' title='0.0'> Or</span><span style='background-color: rgba(0, 165, 0, 0.15); border-radius: 3px;' title='0.0'>b</span><span style='background-color: rgba(0, 165, 0, 0.15); border-radius: 3px;' title='0.0'> was</span><span style='background-color: rgba(0, 165, 0, 0.15); border-radius: 3px;' title='0.0'> r</span><span style='background-color: rgba(0, 165, 0, 0.15); border-radius: 3px;' title='0.0'>idden</span><span style='background-color: rgba(0, 165, 0, 0.15); border-radius: 3px;' title='0.0'> by</span><span style='background-color: rgba(0, 165, 0, 0.15); border-radius: 3px;' title='0.0'> j</span><span style='background-color: rgba(0, 165, 0, 0.15); border-radius: 3px;' title='0.0'>ockey</span><span style='background-color: rgba(0, 165, 0, 0.15); border-radius: 3px;' title='0.0'> Jo</span><span style='background-color: rgba(0, 165, 0, 0.15); border-radius: 3px;' title='0.0'>el</span><span style='background-color: rgba(0, 165, 0, 0.15); border-radius: 3px;' title='0.0'> Ros</span><span style='background-color: rgba(0, 165, 0, 0.15); border-radius: 3px;' title='0.0'>ario</span><span style='background-color: rgba(0, 165, 0, 0.15); border-radius: 3px;' title='0.0'> and</span><span style='background-color: rgba(0, 165, 0, 0.15); border-radius: 3px;' title='0.0'> was</span><span style='background-color: rgba(0, 165, 0, 0.15); border-radius: 3px;' title='0.0'> trained</span><span style='background-color: rgba(0, 165, 0, 0.15); border-radius: 3px;' title='0.0'> by</span><span style='background-color: rgba(0, 165, 0, 0.15); border-radius: 3px;' title='0.0'> Claude</span><span style='background-color: rgba(0, 165, 0, 0.15); border-radius: 3px;' title='0.0'> &quot;</span><span style='background-color: rgba(0, 165, 0, 0.15); border-radius: 3px;' title='0.0'>Sh</span><span style='background-color: rgba(0, 165, 0, 0.15); border-radius: 3px;' title='0.0'>ug</span><span style='background-color: rgba(0, 165, 0, 0.15); border-radius: 3px;' title='0.0'>&quot;</span><span style='background-color: rgba(0, 165, 0, 0.15); border-radius: 3px;' title='0.0'> McG</span><span style='background-color: rgba(0, 165, 0, 0.15); border-radius: 3px;' title='0.0'>aug</span><span style='background-color: rgba(0, 165, 0, 0.15); border-radius: 3px;' title='0.0'>he</span><span style='background-color: rgba(0, 165, 0, 0.15); border-radius: 3px;' title='0.0'>y</span><span style='background-color: rgba(0, 165, 0, 0.15); border-radius: 3px;' title='0.0'>.</span><span style='background-color: rgba(0, 165, 0, 0.15); border-radius: 3px;' title='0.0'> The</span><span style='background-color: rgba(0, 165, 0, 0.15); border-radius: 3px;' title='0.0'> winning</span><span style='background-color: rgba(0, 165, 0, 0.15); border-radius: 3px;' title='0.0'> time</span><span style='background-color: rgba(0, 165, 0, 0.15); border-radius: 3px;' title='0.0'> was</span><span style='background-color: rgba(0, 165, 0, 0.15); border-radius: 3px;' title='0.0'> </span><span style='background-color: rgba(0, 165, 0, 0.15); border-radius: 3px;' title='0.0'>2</span><span style='background-color: rgba(0, 165, 0, 0.15); border-radius: 3px;' title='0.0'>:</span><span style='background-color: rgba(0, 165, 0, 0.15); border-radius: 3px;' title='0.0'>0</span><span style='background-color: rgba(0, 165, 0, 0.15); border-radius: 3px;' title='0.0'>2</span><span style='background-color: rgba(0, 165, 0, 0.15); border-radius: 3px;' title='0.0'>.</span><span style='background-color: rgba(0, 165, 0, 0.15); border-radius: 3px;' title='0.0'>8</span><span style='background-color: rgba(0, 165, 0, 0.15); border-radius: 3px;' title='0.0'>9</span><span style='background-color: rgba(0, 165, 0, 0.15); border-radius: 3px;' title='0.0'> for</span><span style='background-color: rgba(0, 165, 0, 0.15); border-radius: 3px;' title='0.0'> the</span><span style='background-color: rgba(0, 165, 0, 0.15); border-radius: 3px;' title='0.0'> </span><span style='background-color: rgba(0, 165, 0, 0.15); border-radius: 3px;' title='0.0'>1</span><span style='background-color: rgba(0, 165, 0, 0.15); border-radius: 3px;' title='0.0'> </span><span style='background-color: rgba(0, 165, 0, 0.15); border-radius: 3px;' title='0.0'>1</span><span style='background-color: rgba(0, 165, 0, 0.15); border-radius: 3px;' title='0.0'>/</span><span style='background-color: rgba(0, 165, 0, 0.15); border-radius: 3px;' title='0.0'>4</span><span style='background-color: rgba(0, 165, 0, 0.15); border-radius: 3px;' title='0.0'> miles</span><span style='background-color: rgba(0, 165, 0, 0.15); border-radius: 3px;' title='0.0'> race</span><span style='background-color: rgba(0, 165, 0, 0.15); border-radius: 3px;' title='0.0'>.</span></pre>"
      ],
      "text/plain": [
       "<guidance.models.transformers._transformers.Transformers at 0x7f592c375650>"
      ]
     },
     "execution_count": 8,
     "metadata": {},
     "output_type": "execute_result"
    }
   ],
   "source": [
    "import guidance\n",
    "\n",
    "@guidance\n",
    "def qa_bot(lm, query):\n",
    "    lm += f'''\\\n",
    "    Q: {query}\n",
    "    A: {gen(name=\"answer\", stop=\"well well wel\")}'''\n",
    "    return lm\n",
    "\n",
    "query = \"Who won the last Kentucky derby and by how much?\"\n",
    "llama2 + qa_bot(query)"
   ]
  },
  {
   "cell_type": "code",
   "execution_count": 32,
   "id": "bd3434b5-149e-4247-bc36-e8121e35b8c6",
   "metadata": {},
   "outputs": [
    {
     "data": {
      "text/html": [
       "<pre style='margin: 0px; padding: 0px; padding-left: 8px; margin-left: -8px; border-radius: 0px; border-left: 1px solid rgba(127, 127, 127, 0.2); white-space: pre-wrap; font-family: ColfaxAI, Arial; font-size: 15px; line-height: 23px;'>Q: Who won the last Kentucky derby and by how much?\n",
       "A:<span style='background-color: rgba(0, 165, 0, 0.15); border-radius: 3px;' title='0.0'> The</span><span style='background-color: rgba(0, 165, 0, 0.15); border-radius: 3px;' title='0.0'> last</span><span style='background-color: rgba(0, 165, 0, 0.15); border-radius: 3px;' title='0.0'> Kentucky</span><span style='background-color: rgba(0, 165, 0, 0.15); border-radius: 3px;' title='0.0'> Derby</span><span style='background-color: rgba(0, 165, 0, 0.15); border-radius: 3px;' title='0.0'> was</span><span style='background-color: rgba(0, 165, 0, 0.15); border-radius: 3px;' title='0.0'> won</span><span style='background-color: rgba(0, 165, 0, 0.15); border-radius: 3px;' title='0.0'> by</span><span style='background-color: rgba(0, 165, 0, 0.15); border-radius: 3px;' title='0.0'> Or</span><span style='background-color: rgba(0, 165, 0, 0.15); border-radius: 3px;' title='0.0'>b</span><span style='background-color: rgba(0, 165, 0, 0.15); border-radius: 3px;' title='0.0'>,</span><span style='background-color: rgba(0, 165, 0, 0.15); border-radius: 3px;' title='0.0'> who</span><span style='background-color: rgba(0, 165, 0, 0.15); border-radius: 3px;' title='0.0'> won</span><span style='background-color: rgba(0, 165, 0, 0.15); border-radius: 3px;' title='0.0'> by</span><span style='background-color: rgba(0, 165, 0, 0.15); border-radius: 3px;' title='0.0'> </span><span style='background-color: rgba(0, 165, 0, 0.15); border-radius: 3px;' title='0.0'>2</span><span style='background-color: rgba(0, 165, 0, 0.15); border-radius: 3px;' title='0.0'> </span><span style='background-color: rgba(0, 165, 0, 0.15); border-radius: 3px;' title='0.0'>1</span><span style='background-color: rgba(0, 165, 0, 0.15); border-radius: 3px;' title='0.0'>/</span><span style='background-color: rgba(0, 165, 0, 0.15); border-radius: 3px;' title='0.0'>2</span><span style='background-color: rgba(0, 165, 0, 0.15); border-radius: 3px;' title='0.0'> lengths</span><span style='background-color: rgba(0, 165, 0, 0.15); border-radius: 3px;' title='0.0'> over</span><span style='background-color: rgba(0, 165, 0, 0.15); border-radius: 3px;' title='0.0'> the</span><span style='background-color: rgba(0, 165, 0, 0.15); border-radius: 3px;' title='0.0'> second</span><span style='background-color: rgba(0, 165, 0, 0.15); border-radius: 3px;' title='0.0'>-</span><span style='background-color: rgba(0, 165, 0, 0.15); border-radius: 3px;' title='0.0'>place</span><span style='background-color: rgba(0, 165, 0, 0.15); border-radius: 3px;' title='0.0'> finish</span><span style='background-color: rgba(0, 165, 0, 0.15); border-radius: 3px;' title='0.0'>er</span><span style='background-color: rgba(0, 165, 0, 0.15); border-radius: 3px;' title='0.0'>,</span><span style='background-color: rgba(0, 165, 0, 0.15); border-radius: 3px;' title='0.0'> Golden</span><span style='background-color: rgba(0, 165, 0, 0.15); border-radius: 3px;' title='0.0'> Soul</span><span style='background-color: rgba(0, 165, 0, 0.15); border-radius: 3px;' title='0.0'>.</span><span style='background-color: rgba(0, 165, 0, 0.15); border-radius: 3px;' title='0.0'> The</span><span style='background-color: rgba(0, 165, 0, 0.15); border-radius: 3px;' title='0.0'> race</span><span style='background-color: rgba(0, 165, 0, 0.15); border-radius: 3px;' title='0.0'> was</span><span style='background-color: rgba(0, 165, 0, 0.15); border-radius: 3px;' title='0.0'> held</span><span style='background-color: rgba(0, 165, 0, 0.15); border-radius: 3px;' title='0.0'> on</span><span style='background-color: rgba(0, 165, 0, 0.15); border-radius: 3px;' title='0.0'> May</span><span style='background-color: rgba(0, 165, 0, 0.15); border-radius: 3px;' title='0.0'> </span><span style='background-color: rgba(0, 165, 0, 0.15); border-radius: 3px;' title='0.0'>4</span><span style='background-color: rgba(0, 165, 0, 0.15); border-radius: 3px;' title='0.0'>,</span><span style='background-color: rgba(0, 165, 0, 0.15); border-radius: 3px;' title='0.0'> </span><span style='background-color: rgba(0, 165, 0, 0.15); border-radius: 3px;' title='0.0'>2</span><span style='background-color: rgba(0, 165, 0, 0.15); border-radius: 3px;' title='0.0'>0</span><span style='background-color: rgba(0, 165, 0, 0.15); border-radius: 3px;' title='0.0'>1</span><span style='background-color: rgba(0, 165, 0, 0.15); border-radius: 3px;' title='0.0'>3</span><span style='background-color: rgba(0, 165, 0, 0.15); border-radius: 3px;' title='0.0'>,</span><span style='background-color: rgba(0, 165, 0, 0.15); border-radius: 3px;' title='0.0'> at</span><span style='background-color: rgba(0, 165, 0, 0.15); border-radius: 3px;' title='0.0'> Church</span><span style='background-color: rgba(0, 165, 0, 0.15); border-radius: 3px;' title='0.0'>ill</span><span style='background-color: rgba(0, 165, 0, 0.15); border-radius: 3px;' title='0.0'> Down</span><span style='background-color: rgba(0, 165, 0, 0.15); border-radius: 3px;' title='0.0'>s</span><span style='background-color: rgba(0, 165, 0, 0.15); border-radius: 3px;' title='0.0'> in</span><span style='background-color: rgba(0, 165, 0, 0.15); border-radius: 3px;' title='0.0'> Louis</span><span style='background-color: rgba(0, 165, 0, 0.15); border-radius: 3px;' title='0.0'>ville</span><span style='background-color: rgba(0, 165, 0, 0.15); border-radius: 3px;' title='0.0'>,</span><span style='background-color: rgba(0, 165, 0, 0.15); border-radius: 3px;' title='0.0'> Kentucky</span><span style='background-color: rgba(0, 165, 0, 0.15); border-radius: 3px;' title='0.0'>.</span><span style='background-color: rgba(0, 165, 0, 0.15); border-radius: 3px;' title='0.0'> Or</span><span style='background-color: rgba(0, 165, 0, 0.15); border-radius: 3px;' title='0.0'>b</span><span style='background-color: rgba(0, 165, 0, 0.15); border-radius: 3px;' title='0.0'> was</span><span style='background-color: rgba(0, 165, 0, 0.15); border-radius: 3px;' title='0.0'> r</span><span style='background-color: rgba(0, 165, 0, 0.15); border-radius: 3px;' title='0.0'>idden</span><span style='background-color: rgba(0, 165, 0, 0.15); border-radius: 3px;' title='0.0'> by</span><span style='background-color: rgba(0, 165, 0, 0.15); border-radius: 3px;' title='0.0'> j</span><span style='background-color: rgba(0, 165, 0, 0.15); border-radius: 3px;' title='0.0'>ockey</span><span style='background-color: rgba(0, 165, 0, 0.15); border-radius: 3px;' title='0.0'> Jo</span><span style='background-color: rgba(0, 165, 0, 0.15); border-radius: 3px;' title='0.0'>el</span><span style='background-color: rgba(0, 165, 0, 0.15); border-radius: 3px;' title='0.0'> Ros</span><span style='background-color: rgba(0, 165, 0, 0.15); border-radius: 3px;' title='0.0'>ario</span><span style='background-color: rgba(0, 165, 0, 0.15); border-radius: 3px;' title='0.0'> and</span><span style='background-color: rgba(0, 165, 0, 0.15); border-radius: 3px;' title='0.0'> was</span><span style='background-color: rgba(0, 165, 0, 0.15); border-radius: 3px;' title='0.0'> trained</span><span style='background-color: rgba(0, 165, 0, 0.15); border-radius: 3px;' title='0.0'> by</span><span style='background-color: rgba(0, 165, 0, 0.15); border-radius: 3px;' title='0.0'> Claude</span><span style='background-color: rgba(0, 165, 0, 0.15); border-radius: 3px;' title='0.0'> &quot;</span><span style='background-color: rgba(0, 165, 0, 0.15); border-radius: 3px;' title='0.0'>Sh</span><span style='background-color: rgba(0, 165, 0, 0.15); border-radius: 3px;' title='0.0'>ug</span><span style='background-color: rgba(0, 165, 0, 0.15); border-radius: 3px;' title='0.0'>&quot;</span><span style='background-color: rgba(0, 165, 0, 0.15); border-radius: 3px;' title='0.0'> McG</span><span style='background-color: rgba(0, 165, 0, 0.15); border-radius: 3px;' title='0.0'>aug</span><span style='background-color: rgba(0, 165, 0, 0.15); border-radius: 3px;' title='0.0'>he</span><span style='background-color: rgba(0, 165, 0, 0.15); border-radius: 3px;' title='0.0'>y</span><span style='background-color: rgba(0, 165, 0, 0.15); border-radius: 3px;' title='0.0'>.</span><span style='background-color: rgba(0, 165, 0, 0.15); border-radius: 3px;' title='0.0'> The</span><span style='background-color: rgba(0, 165, 0, 0.15); border-radius: 3px;' title='0.0'> winning</span><span style='background-color: rgba(0, 165, 0, 0.15); border-radius: 3px;' title='0.0'> time</span><span style='background-color: rgba(0, 165, 0, 0.15); border-radius: 3px;' title='0.0'> was</span><span style='background-color: rgba(0, 165, 0, 0.15); border-radius: 3px;' title='0.0'> </span><span style='background-color: rgba(0, 165, 0, 0.15); border-radius: 3px;' title='0.0'>2</span><span style='background-color: rgba(0, 165, 0, 0.15); border-radius: 3px;' title='0.0'>:</span><span style='background-color: rgba(0, 165, 0, 0.15); border-radius: 3px;' title='0.0'>0</span><span style='background-color: rgba(0, 165, 0, 0.15); border-radius: 3px;' title='0.0'>2</span><span style='background-color: rgba(0, 165, 0, 0.15); border-radius: 3px;' title='0.0'>.</span><span style='background-color: rgba(0, 165, 0, 0.15); border-radius: 3px;' title='0.0'>8</span><span style='background-color: rgba(0, 165, 0, 0.15); border-radius: 3px;' title='0.0'>9</span><span style='background-color: rgba(0, 165, 0, 0.15); border-radius: 3px;' title='0.0'> for</span><span style='background-color: rgba(0, 165, 0, 0.15); border-radius: 3px;' title='0.0'> the</span><span style='background-color: rgba(0, 165, 0, 0.15); border-radius: 3px;' title='0.0'> </span><span style='background-color: rgba(0, 165, 0, 0.15); border-radius: 3px;' title='0.0'>1</span><span style='background-color: rgba(0, 165, 0, 0.15); border-radius: 3px;' title='0.0'> </span><span style='background-color: rgba(0, 165, 0, 0.15); border-radius: 3px;' title='0.0'>1</span><span style='background-color: rgba(0, 165, 0, 0.15); border-radius: 3px;' title='0.0'>/</span><span style='background-color: rgba(0, 165, 0, 0.15); border-radius: 3px;' title='0.0'>4</span><span style='background-color: rgba(0, 165, 0, 0.15); border-radius: 3px;' title='0.0'> miles</span><span style='background-color: rgba(0, 165, 0, 0.15); border-radius: 3px;' title='0.0'> race</span><span style='background-color: rgba(0, 165, 0, 0.15); border-radius: 3px;' title='0.0'>.</span></pre>"
      ],
      "text/plain": [
       "<IPython.core.display.HTML object>"
      ]
     },
     "metadata": {},
     "output_type": "display_data"
    }
   ],
   "source": [
    "query = \"Who won the last Kentucky derby and by how much?\"\n",
    "lm = llama2 + f'''\\\n",
    "Q: {query}\n",
    "A: {gen(name = \"answer\",stop=\"Q:\")}'''"
   ]
  },
  {
   "cell_type": "code",
   "execution_count": 18,
   "id": "30995f41-938d-4748-ac99-93c8836e4ca5",
   "metadata": {},
   "outputs": [
    {
     "data": {
      "text/html": [
       "<pre style='margin: 0px; padding: 0px; padding-left: 8px; margin-left: -8px; border-radius: 0px; border-left: 1px solid rgba(127, 127, 127, 0.2); white-space: pre-wrap; font-family: ColfaxAI, Arial; font-size: 15px; line-height: 23px;'>Q: Who won the last Kentucky derby and by how much?\n",
       "Now I will choose ASK or THINK or RESPOND.\n",
       "Choice:<span style='background-color: rgba(0, 165, 0, 0.15); border-radius: 3px;' title='0.0'> TH</span>IN<span style='background-color: rgba(0, 165, 0, 0.15); border-radius: 3px;' title='0.0'>K</span>Q: What am I thinking about is this<span style='background-color: rgba(0, 165, 0, 0.15); border-radius: 3px;' title='0.0'>.</span><span style='background-color: rgba(0, 165, 0, 0.15); border-radius: 3px;' title='0.0'>\n",
       "</span><span style='background-color: rgba(0, 165, 0, 0.15); border-radius: 3px;' title='0.0'>\n",
       "</span><span style='background-color: rgba(0, 165, 0, 0.15); border-radius: 3px;' title='0.0'>A</span><span style='background-color: rgba(0, 165, 0, 0.15); border-radius: 3px;' title='0.0'>:</span><span style='background-color: rgba(0, 165, 0, 0.15); border-radius: 3px;' title='0.0'> The</span><span style='background-color: rgba(0, 165, 0, 0.15); border-radius: 3px;' title='0.0'> last</span><span style='background-color: rgba(0, 165, 0, 0.15); border-radius: 3px;' title='0.0'> Kentucky</span><span style='background-color: rgba(0, 165, 0, 0.15); border-radius: 3px;' title='0.0'> Derby</span><span style='background-color: rgba(0, 165, 0, 0.15); border-radius: 3px;' title='0.0'> was</span><span style='background-color: rgba(0, 165, 0, 0.15); border-radius: 3px;' title='0.0'> won</span><span style='background-color: rgba(0, 165, 0, 0.15); border-radius: 3px;' title='0.0'> by</span><span style='background-color: rgba(0, 165, 0, 0.15); border-radius: 3px;' title='0.0'> a</span><span style='background-color: rgba(0, 165, 0, 0.15); border-radius: 3px;' title='0.0'> horse</span><span style='background-color: rgba(0, 165, 0, 0.15); border-radius: 3px;' title='0.0'> named</span><span style='background-color: rgba(0, 165, 0, 0.15); border-radius: 3px;' title='0.0'> Or</span><span style='background-color: rgba(0, 165, 0, 0.15); border-radius: 3px;' title='0.0'>b</span><span style='background-color: rgba(0, 165, 0, 0.15); border-radius: 3px;' title='0.0'>,</span><span style='background-color: rgba(0, 165, 0, 0.15); border-radius: 3px;' title='0.0'> who</span><span style='background-color: rgba(0, 165, 0, 0.15); border-radius: 3px;' title='0.0'> won</span><span style='background-color: rgba(0, 165, 0, 0.15); border-radius: 3px;' title='0.0'> by</span><span style='background-color: rgba(0, 165, 0, 0.15); border-radius: 3px;' title='0.0'> </span><span style='background-color: rgba(0, 165, 0, 0.15); border-radius: 3px;' title='0.0'>2</span><span style='background-color: rgba(0, 165, 0, 0.15); border-radius: 3px;' title='0.0'> </span><span style='background-color: rgba(0, 165, 0, 0.15); border-radius: 3px;' title='0.0'>1</span><span style='background-color: rgba(0, 165, 0, 0.15); border-radius: 3px;' title='0.0'>/</span><span style='background-color: rgba(0, 165, 0, 0.15); border-radius: 3px;' title='0.0'>2</span><span style='background-color: rgba(0, 165, 0, 0.15); border-radius: 3px;' title='0.0'> lengths</span><span style='background-color: rgba(0, 165, 0, 0.15); border-radius: 3px;' title='0.0'>.</span><span style='background-color: rgba(0, 165, 0, 0.15); border-radius: 3px;' title='0.0'>\n",
       "</span><span style='background-color: rgba(0, 165, 0, 0.15); border-radius: 3px;' title='0.0'>\n",
       "</span><span style='background-color: rgba(0, 165, 0, 0.15); border-radius: 3px;' title='0.0'>Cor</span><span style='background-color: rgba(0, 165, 0, 0.15); border-radius: 3px;' title='0.0'>rect</span><span style='background-color: rgba(0, 165, 0, 0.15); border-radius: 3px;' title='0.0'>!</span><span style='background-color: rgba(0, 165, 0, 0.15); border-radius: 3px;' title='0.0'> You</span><span style='background-color: rgba(0, 165, 0, 0.15); border-radius: 3px;' title='0.0'> were</span><span style='background-color: rgba(0, 165, 0, 0.15); border-radius: 3px;' title='0.0'> thinking</span><span style='background-color: rgba(0, 165, 0, 0.15); border-radius: 3px;' title='0.0'> about</span><span style='background-color: rgba(0, 165, 0, 0.15); border-radius: 3px;' title='0.0'> the</span><span style='background-color: rgba(0, 165, 0, 0.15); border-radius: 3px;' title='0.0'> Kentucky</span><span style='background-color: rgba(0, 165, 0, 0.15); border-radius: 3px;' title='0.0'> Derby</span><span style='background-color: rgba(0, 165, 0, 0.15); border-radius: 3px;' title='0.0'> and</span><span style='background-color: rgba(0, 165, 0, 0.15); border-radius: 3px;' title='0.0'> you</span><span style='background-color: rgba(0, 165, 0, 0.15); border-radius: 3px;' title='0.0'> chose</span><span style='background-color: rgba(0, 165, 0, 0.15); border-radius: 3px;' title='0.0'> TH</span><span style='background-color: rgba(0, 165, 0, 0.15); border-radius: 3px;' title='0.0'>IN</span><span style='background-color: rgba(0, 165, 0, 0.15); border-radius: 3px;' title='0.0'>K</span><span style='background-color: rgba(0, 165, 0, 0.15); border-radius: 3px;' title='0.0'>.</span><span style='background-color: rgba(0, 165, 0, 0.15); border-radius: 3px;' title='0.0'>\n",
       "</span><span style='background-color: rgba(0, 165, 0, 0.15); border-radius: 3px;' title='0.0'>\n",
       "</span><span style='background-color: rgba(0, 165, 0, 0.15); border-radius: 3px;' title='0.0'>W</span><span style='background-color: rgba(0, 165, 0, 0.15); border-radius: 3px;' title='0.0'>ould</span><span style='background-color: rgba(0, 165, 0, 0.15); border-radius: 3px;' title='0.0'> you</span><span style='background-color: rgba(0, 165, 0, 0.15); border-radius: 3px;' title='0.0'> like</span><span style='background-color: rgba(0, 165, 0, 0.15); border-radius: 3px;' title='0.0'> to</span><span style='background-color: rgba(0, 165, 0, 0.15); border-radius: 3px;' title='0.0'> play</span><span style='background-color: rgba(0, 165, 0, 0.15); border-radius: 3px;' title='0.0'> again</span><span style='background-color: rgba(0, 165, 0, 0.15); border-radius: 3px;' title='0.0'>?</span></pre>"
      ],
      "text/plain": [
       "<IPython.core.display.HTML object>"
      ]
     },
     "metadata": {},
     "output_type": "display_data"
    }
   ],
   "source": [
    "from guidance import select\n",
    "\n",
    "lm = llama2 + f'''\\\n",
    "Q: {query}\n",
    "Now I will choose ASK or THINK or RESPOND.\n",
    "Choice: {select([\"SEARCH\", \"THINK\",\"RESPOND\"], name=\"choice\")}'''\n",
    "if lm[\"choice\"] == \"THINK\":\n",
    "    lm +=\"Q: What am I thinking about is this.\" + gen(name=\"thoughts\")\n",
    "    "
   ]
  },
  {
   "cell_type": "code",
   "execution_count": 22,
   "id": "77f038f8-e24f-4300-a3af-88245e3ef5c2",
   "metadata": {},
   "outputs": [
    {
     "data": {
      "text/html": [
       "<pre style='margin: 0px; padding: 0px; padding-left: 8px; margin-left: -8px; border-radius: 0px; border-left: 1px solid rgba(127, 127, 127, 0.2); white-space: pre-wrap; font-family: ColfaxAI, Arial; font-size: 15px; line-height: 23px;'>Q: Who won the last Kentucky derby and by how much?\n",
       "Now I will choose ASK or THINK or RESPOND.\n",
       "Choice:<span style='background-color: rgba(0, 165, 0, 0.15); border-radius: 3px;' title='0.0'> TH</span>IN<span style='background-color: rgba(0, 165, 0, 0.15); border-radius: 3px;' title='0.0'>K</span>Q: What am I thinking about is this<span style='background-color: rgba(0, 165, 0, 0.15); border-radius: 3px;' title='0.0'>.</span><span style='background-color: rgba(0, 165, 0, 0.15); border-radius: 3px;' title='0.0'>\n",
       "</span><span style='background-color: rgba(0, 165, 0, 0.15); border-radius: 3px;' title='0.0'>\n",
       "</span><span style='background-color: rgba(0, 165, 0, 0.15); border-radius: 3px;' title='0.0'>A</span><span style='background-color: rgba(0, 165, 0, 0.15); border-radius: 3px;' title='0.0'>:</span><span style='background-color: rgba(0, 165, 0, 0.15); border-radius: 3px;' title='0.0'> The</span><span style='background-color: rgba(0, 165, 0, 0.15); border-radius: 3px;' title='0.0'> last</span><span style='background-color: rgba(0, 165, 0, 0.15); border-radius: 3px;' title='0.0'> Kentucky</span><span style='background-color: rgba(0, 165, 0, 0.15); border-radius: 3px;' title='0.0'> Derby</span><span style='background-color: rgba(0, 165, 0, 0.15); border-radius: 3px;' title='0.0'> was</span><span style='background-color: rgba(0, 165, 0, 0.15); border-radius: 3px;' title='0.0'> won</span><span style='background-color: rgba(0, 165, 0, 0.15); border-radius: 3px;' title='0.0'> by</span><span style='background-color: rgba(0, 165, 0, 0.15); border-radius: 3px;' title='0.0'> a</span><span style='background-color: rgba(0, 165, 0, 0.15); border-radius: 3px;' title='0.0'> horse</span><span style='background-color: rgba(0, 165, 0, 0.15); border-radius: 3px;' title='0.0'> named</span><span style='background-color: rgba(0, 165, 0, 0.15); border-radius: 3px;' title='0.0'> Or</span><span style='background-color: rgba(0, 165, 0, 0.15); border-radius: 3px;' title='0.0'>b</span><span style='background-color: rgba(0, 165, 0, 0.15); border-radius: 3px;' title='0.0'>,</span><span style='background-color: rgba(0, 165, 0, 0.15); border-radius: 3px;' title='0.0'> who</span><span style='background-color: rgba(0, 165, 0, 0.15); border-radius: 3px;' title='0.0'> won</span><span style='background-color: rgba(0, 165, 0, 0.15); border-radius: 3px;' title='0.0'> by</span><span style='background-color: rgba(0, 165, 0, 0.15); border-radius: 3px;' title='0.0'> </span><span style='background-color: rgba(0, 165, 0, 0.15); border-radius: 3px;' title='0.0'>2</span><span style='background-color: rgba(0, 165, 0, 0.15); border-radius: 3px;' title='0.0'> </span><span style='background-color: rgba(0, 165, 0, 0.15); border-radius: 3px;' title='0.0'>1</span><span style='background-color: rgba(0, 165, 0, 0.15); border-radius: 3px;' title='0.0'>/</span><span style='background-color: rgba(0, 165, 0, 0.15); border-radius: 3px;' title='0.0'>2</span><span style='background-color: rgba(0, 165, 0, 0.15); border-radius: 3px;' title='0.0'> lengths</span><span style='background-color: rgba(0, 165, 0, 0.15); border-radius: 3px;' title='0.0'>.</span><span style='background-color: rgba(0, 165, 0, 0.15); border-radius: 3px;' title='0.0'>\n",
       "</span><span style='background-color: rgba(0, 165, 0, 0.15); border-radius: 3px;' title='0.0'>\n",
       "</span><span style='background-color: rgba(0, 165, 0, 0.15); border-radius: 3px;' title='0.0'>Cor</span><span style='background-color: rgba(0, 165, 0, 0.15); border-radius: 3px;' title='0.0'>rect</span><span style='background-color: rgba(0, 165, 0, 0.15); border-radius: 3px;' title='0.0'>!</span><span style='background-color: rgba(0, 165, 0, 0.15); border-radius: 3px;' title='0.0'> You</span><span style='background-color: rgba(0, 165, 0, 0.15); border-radius: 3px;' title='0.0'> were</span><span style='background-color: rgba(0, 165, 0, 0.15); border-radius: 3px;' title='0.0'> thinking</span><span style='background-color: rgba(0, 165, 0, 0.15); border-radius: 3px;' title='0.0'> about</span><span style='background-color: rgba(0, 165, 0, 0.15); border-radius: 3px;' title='0.0'> the</span><span style='background-color: rgba(0, 165, 0, 0.15); border-radius: 3px;' title='0.0'> Kentucky</span><span style='background-color: rgba(0, 165, 0, 0.15); border-radius: 3px;' title='0.0'> Derby</span><span style='background-color: rgba(0, 165, 0, 0.15); border-radius: 3px;' title='0.0'> and</span><span style='background-color: rgba(0, 165, 0, 0.15); border-radius: 3px;' title='0.0'> you</span><span style='background-color: rgba(0, 165, 0, 0.15); border-radius: 3px;' title='0.0'> chose</span><span style='background-color: rgba(0, 165, 0, 0.15); border-radius: 3px;' title='0.0'> TH</span><span style='background-color: rgba(0, 165, 0, 0.15); border-radius: 3px;' title='0.0'>IN</span><span style='background-color: rgba(0, 165, 0, 0.15); border-radius: 3px;' title='0.0'>K</span><span style='background-color: rgba(0, 165, 0, 0.15); border-radius: 3px;' title='0.0'>.</span><span style='background-color: rgba(0, 165, 0, 0.15); border-radius: 3px;' title='0.0'>\n",
       "</span><span style='background-color: rgba(0, 165, 0, 0.15); border-radius: 3px;' title='0.0'>\n",
       "</span><span style='background-color: rgba(0, 165, 0, 0.15); border-radius: 3px;' title='0.0'>W</span><span style='background-color: rgba(0, 165, 0, 0.15); border-radius: 3px;' title='0.0'>ould</span><span style='background-color: rgba(0, 165, 0, 0.15); border-radius: 3px;' title='0.0'> you</span><span style='background-color: rgba(0, 165, 0, 0.15); border-radius: 3px;' title='0.0'> like</span><span style='background-color: rgba(0, 165, 0, 0.15); border-radius: 3px;' title='0.0'> to</span><span style='background-color: rgba(0, 165, 0, 0.15); border-radius: 3px;' title='0.0'> play</span><span style='background-color: rgba(0, 165, 0, 0.15); border-radius: 3px;' title='0.0'> again</span><span style='background-color: rgba(0, 165, 0, 0.15); border-radius: 3px;' title='0.0'>?</span>yes please, lets play again.<span style='background-color: rgba(0, 165, 0, 0.15); border-radius: 3px;' title='0.0'>\n",
       "</span><span style='background-color: rgba(0, 165, 0, 0.15); border-radius: 3px;' title='0.0'>\n",
       "</span><span style='background-color: rgba(0, 165, 0, 0.15); border-radius: 3px;' title='0.0'>Let</span><span style='background-color: rgba(0, 165, 0, 0.15); border-radius: 3px;' title='0.0'>&#x27;</span><span style='background-color: rgba(0, 165, 0, 0.15); border-radius: 3px;' title='0.0'>s</span><span style='background-color: rgba(0, 165, 0, 0.15); border-radius: 3px;' title='0.0'> play</span><span style='background-color: rgba(0, 165, 0, 0.15); border-radius: 3px;' title='0.0'> again</span><span style='background-color: rgba(0, 165, 0, 0.15); border-radius: 3px;' title='0.0'>!</span><span style='background-color: rgba(0, 165, 0, 0.15); border-radius: 3px;' title='0.0'> Here</span><span style='background-color: rgba(0, 165, 0, 0.15); border-radius: 3px;' title='0.0'>&#x27;</span><span style='background-color: rgba(0, 165, 0, 0.15); border-radius: 3px;' title='0.0'>s</span><span style='background-color: rgba(0, 165, 0, 0.15); border-radius: 3px;' title='0.0'> your</span><span style='background-color: rgba(0, 165, 0, 0.15); border-radius: 3px;' title='0.0'> next</span><span style='background-color: rgba(0, 165, 0, 0.15); border-radius: 3px;' title='0.0'> question</span><span style='background-color: rgba(0, 165, 0, 0.15); border-radius: 3px;' title='0.0'>:</span><span style='background-color: rgba(0, 165, 0, 0.15); border-radius: 3px;' title='0.0'>\n",
       "</span><span style='background-color: rgba(0, 165, 0, 0.15); border-radius: 3px;' title='0.0'>\n",
       "</span><span style='background-color: rgba(0, 165, 0, 0.15); border-radius: 3px;' title='0.0'>Q</span><span style='background-color: rgba(0, 165, 0, 0.15); border-radius: 3px;' title='0.0'>:</span><span style='background-color: rgba(0, 165, 0, 0.15); border-radius: 3px;' title='0.0'> Who</span><span style='background-color: rgba(0, 165, 0, 0.15); border-radius: 3px;' title='0.0'> is</span><span style='background-color: rgba(0, 165, 0, 0.15); border-radius: 3px;' title='0.0'> the</span><span style='background-color: rgba(0, 165, 0, 0.15); border-radius: 3px;' title='0.0'> only</span><span style='background-color: rgba(0, 165, 0, 0.15); border-radius: 3px;' title='0.0'> player</span><span style='background-color: rgba(0, 165, 0, 0.15); border-radius: 3px;' title='0.0'> in</span><span style='background-color: rgba(0, 165, 0, 0.15); border-radius: 3px;' title='0.0'> NBA</span><span style='background-color: rgba(0, 165, 0, 0.15); border-radius: 3px;' title='0.0'> history</span><span style='background-color: rgba(0, 165, 0, 0.15); border-radius: 3px;' title='0.0'> to</span><span style='background-color: rgba(0, 165, 0, 0.15); border-radius: 3px;' title='0.0'> win</span><span style='background-color: rgba(0, 165, 0, 0.15); border-radius: 3px;' title='0.0'> the</span><span style='background-color: rgba(0, 165, 0, 0.15); border-radius: 3px;' title='0.0'> Final</span><span style='background-color: rgba(0, 165, 0, 0.15); border-radius: 3px;' title='0.0'>s</span><span style='background-color: rgba(0, 165, 0, 0.15); border-radius: 3px;' title='0.0'> M</span><span style='background-color: rgba(0, 165, 0, 0.15); border-radius: 3px;' title='0.0'>VP</span><span style='background-color: rgba(0, 165, 0, 0.15); border-radius: 3px;' title='0.0'>,</span><span style='background-color: rgba(0, 165, 0, 0.15); border-radius: 3px;' title='0.0'> regular</span><span style='background-color: rgba(0, 165, 0, 0.15); border-radius: 3px;' title='0.0'> season</span><span style='background-color: rgba(0, 165, 0, 0.15); border-radius: 3px;' title='0.0'> M</span><span style='background-color: rgba(0, 165, 0, 0.15); border-radius: 3px;' title='0.0'>VP</span><span style='background-color: rgba(0, 165, 0, 0.15); border-radius: 3px;' title='0.0'>,</span><span style='background-color: rgba(0, 165, 0, 0.15); border-radius: 3px;' title='0.0'> and</span><span style='background-color: rgba(0, 165, 0, 0.15); border-radius: 3px;' title='0.0'> All</span><span style='background-color: rgba(0, 165, 0, 0.15); border-radius: 3px;' title='0.0'>-</span><span style='background-color: rgba(0, 165, 0, 0.15); border-radius: 3px;' title='0.0'>Star</span><span style='background-color: rgba(0, 165, 0, 0.15); border-radius: 3px;' title='0.0'> Game</span><span style='background-color: rgba(0, 165, 0, 0.15); border-radius: 3px;' title='0.0'> M</span><span style='background-color: rgba(0, 165, 0, 0.15); border-radius: 3px;' title='0.0'>VP</span><span style='background-color: rgba(0, 165, 0, 0.15); border-radius: 3px;' title='0.0'> in</span><span style='background-color: rgba(0, 165, 0, 0.15); border-radius: 3px;' title='0.0'> the</span><span style='background-color: rgba(0, 165, 0, 0.15); border-radius: 3px;' title='0.0'> same</span><span style='background-color: rgba(0, 165, 0, 0.15); border-radius: 3px;' title='0.0'> season</span><span style='background-color: rgba(0, 165, 0, 0.15); border-radius: 3px;' title='0.0'>?</span><span style='background-color: rgba(0, 165, 0, 0.15); border-radius: 3px;' title='0.0'>\n",
       "</span><span style='background-color: rgba(0, 165, 0, 0.15); border-radius: 3px;' title='0.0'>\n",
       "</span><span style='background-color: rgba(0, 165, 0, 0.15); border-radius: 3px;' title='0.0'>Now</span><span style='background-color: rgba(0, 165, 0, 0.15); border-radius: 3px;' title='0.0'> I</span><span style='background-color: rgba(0, 165, 0, 0.15); border-radius: 3px;' title='0.0'> will</span><span style='background-color: rgba(0, 165, 0, 0.15); border-radius: 3px;' title='0.0'> choose</span><span style='background-color: rgba(0, 165, 0, 0.15); border-radius: 3px;' title='0.0'> AS</span><span style='background-color: rgba(0, 165, 0, 0.15); border-radius: 3px;' title='0.0'>K</span><span style='background-color: rgba(0, 165, 0, 0.15); border-radius: 3px;' title='0.0'> or</span><span style='background-color: rgba(0, 165, 0, 0.15); border-radius: 3px;' title='0.0'> TH</span><span style='background-color: rgba(0, 165, 0, 0.15); border-radius: 3px;' title='0.0'>IN</span><span style='background-color: rgba(0, 165, 0, 0.15); border-radius: 3px;' title='0.0'>K</span><span style='background-color: rgba(0, 165, 0, 0.15); border-radius: 3px;' title='0.0'> or</span><span style='background-color: rgba(0, 165, 0, 0.15); border-radius: 3px;' title='0.0'> R</span><span style='background-color: rgba(0, 165, 0, 0.15); border-radius: 3px;' title='0.0'>ES</span><span style='background-color: rgba(0, 165, 0, 0.15); border-radius: 3px;' title='0.0'>P</span><span style='background-color: rgba(0, 165, 0, 0.15); border-radius: 3px;' title='0.0'>ON</span><span style='background-color: rgba(0, 165, 0, 0.15); border-radius: 3px;' title='0.0'>D</span><span style='background-color: rgba(0, 165, 0, 0.15); border-radius: 3px;' title='0.0'>.</span><span style='background-color: rgba(0, 165, 0, 0.15); border-radius: 3px;' title='0.0'>\n",
       "</span><span style='background-color: rgba(0, 165, 0, 0.15); border-radius: 3px;' title='0.0'>\n",
       "</span><span style='background-color: rgba(0, 165, 0, 0.15); border-radius: 3px;' title='0.0'>Choice</span><span style='background-color: rgba(0, 165, 0, 0.15); border-radius: 3px;' title='0.0'>:</span><span style='background-color: rgba(0, 165, 0, 0.15); border-radius: 3px;' title='0.0'> TH</span><span style='background-color: rgba(0, 165, 0, 0.15); border-radius: 3px;' title='0.0'>IN</span><span style='background-color: rgba(0, 165, 0, 0.15); border-radius: 3px;' title='0.0'>K</span><span style='background-color: rgba(0, 165, 0, 0.15); border-radius: 3px;' title='0.0'>\n",
       "</span><span style='background-color: rgba(0, 165, 0, 0.15); border-radius: 3px;' title='0.0'>\n",
       "</span><span style='background-color: rgba(0, 165, 0, 0.15); border-radius: 3px;' title='0.0'>What</span><span style='background-color: rgba(0, 165, 0, 0.15); border-radius: 3px;' title='0.0'> are</span><span style='background-color: rgba(0, 165, 0, 0.15); border-radius: 3px;' title='0.0'> you</span><span style='background-color: rgba(0, 165, 0, 0.15); border-radius: 3px;' title='0.0'> thinking</span><span style='background-color: rgba(0, 165, 0, 0.15); border-radius: 3px;' title='0.0'>?</span></pre>"
      ],
      "text/plain": [
       "<IPython.core.display.HTML object>"
      ]
     },
     "metadata": {},
     "output_type": "display_data"
    }
   ],
   "source": [
    "lm = lm+\"yes please, lets play again.\"+gen()"
   ]
  },
  {
   "cell_type": "code",
   "execution_count": 25,
   "id": "e6b33dce-8648-4c55-ab27-36d2d098b76b",
   "metadata": {},
   "outputs": [
    {
     "data": {
      "text/html": [
       "<pre style='margin: 0px; padding: 0px; padding-left: 8px; margin-left: -8px; border-radius: 0px; border-left: 1px solid rgba(127, 127, 127, 0.2); white-space: pre-wrap; font-family: ColfaxAI, Arial; font-size: 15px; line-height: 23px;'>Q: Who won the last Kentucky derby and by how much?\n",
       "Now I will choose ASK or THINK or RESPOND.\n",
       "Choice:<span style='background-color: rgba(0, 165, 0, 0.15); border-radius: 3px;' title='0.0'> TH</span>IN<span style='background-color: rgba(0, 165, 0, 0.15); border-radius: 3px;' title='0.0'>K</span>Q: What am I thinking about is this<span style='background-color: rgba(0, 165, 0, 0.15); border-radius: 3px;' title='0.0'>.</span><span style='background-color: rgba(0, 165, 0, 0.15); border-radius: 3px;' title='0.0'>\n",
       "</span><span style='background-color: rgba(0, 165, 0, 0.15); border-radius: 3px;' title='0.0'>\n",
       "</span><span style='background-color: rgba(0, 165, 0, 0.15); border-radius: 3px;' title='0.0'>A</span><span style='background-color: rgba(0, 165, 0, 0.15); border-radius: 3px;' title='0.0'>:</span><span style='background-color: rgba(0, 165, 0, 0.15); border-radius: 3px;' title='0.0'> The</span><span style='background-color: rgba(0, 165, 0, 0.15); border-radius: 3px;' title='0.0'> last</span><span style='background-color: rgba(0, 165, 0, 0.15); border-radius: 3px;' title='0.0'> Kentucky</span><span style='background-color: rgba(0, 165, 0, 0.15); border-radius: 3px;' title='0.0'> Derby</span><span style='background-color: rgba(0, 165, 0, 0.15); border-radius: 3px;' title='0.0'> was</span><span style='background-color: rgba(0, 165, 0, 0.15); border-radius: 3px;' title='0.0'> won</span><span style='background-color: rgba(0, 165, 0, 0.15); border-radius: 3px;' title='0.0'> by</span><span style='background-color: rgba(0, 165, 0, 0.15); border-radius: 3px;' title='0.0'> a</span><span style='background-color: rgba(0, 165, 0, 0.15); border-radius: 3px;' title='0.0'> horse</span><span style='background-color: rgba(0, 165, 0, 0.15); border-radius: 3px;' title='0.0'> named</span><span style='background-color: rgba(0, 165, 0, 0.15); border-radius: 3px;' title='0.0'> Or</span><span style='background-color: rgba(0, 165, 0, 0.15); border-radius: 3px;' title='0.0'>b</span><span style='background-color: rgba(0, 165, 0, 0.15); border-radius: 3px;' title='0.0'>,</span><span style='background-color: rgba(0, 165, 0, 0.15); border-radius: 3px;' title='0.0'> who</span><span style='background-color: rgba(0, 165, 0, 0.15); border-radius: 3px;' title='0.0'> won</span><span style='background-color: rgba(0, 165, 0, 0.15); border-radius: 3px;' title='0.0'> by</span><span style='background-color: rgba(0, 165, 0, 0.15); border-radius: 3px;' title='0.0'> </span><span style='background-color: rgba(0, 165, 0, 0.15); border-radius: 3px;' title='0.0'>2</span><span style='background-color: rgba(0, 165, 0, 0.15); border-radius: 3px;' title='0.0'> </span><span style='background-color: rgba(0, 165, 0, 0.15); border-radius: 3px;' title='0.0'>1</span><span style='background-color: rgba(0, 165, 0, 0.15); border-radius: 3px;' title='0.0'>/</span><span style='background-color: rgba(0, 165, 0, 0.15); border-radius: 3px;' title='0.0'>2</span><span style='background-color: rgba(0, 165, 0, 0.15); border-radius: 3px;' title='0.0'> lengths</span><span style='background-color: rgba(0, 165, 0, 0.15); border-radius: 3px;' title='0.0'>.</span><span style='background-color: rgba(0, 165, 0, 0.15); border-radius: 3px;' title='0.0'>\n",
       "</span><span style='background-color: rgba(0, 165, 0, 0.15); border-radius: 3px;' title='0.0'>\n",
       "</span><span style='background-color: rgba(0, 165, 0, 0.15); border-radius: 3px;' title='0.0'>Cor</span><span style='background-color: rgba(0, 165, 0, 0.15); border-radius: 3px;' title='0.0'>rect</span><span style='background-color: rgba(0, 165, 0, 0.15); border-radius: 3px;' title='0.0'>!</span><span style='background-color: rgba(0, 165, 0, 0.15); border-radius: 3px;' title='0.0'> You</span><span style='background-color: rgba(0, 165, 0, 0.15); border-radius: 3px;' title='0.0'> were</span><span style='background-color: rgba(0, 165, 0, 0.15); border-radius: 3px;' title='0.0'> thinking</span><span style='background-color: rgba(0, 165, 0, 0.15); border-radius: 3px;' title='0.0'> about</span><span style='background-color: rgba(0, 165, 0, 0.15); border-radius: 3px;' title='0.0'> the</span><span style='background-color: rgba(0, 165, 0, 0.15); border-radius: 3px;' title='0.0'> Kentucky</span><span style='background-color: rgba(0, 165, 0, 0.15); border-radius: 3px;' title='0.0'> Derby</span><span style='background-color: rgba(0, 165, 0, 0.15); border-radius: 3px;' title='0.0'> and</span><span style='background-color: rgba(0, 165, 0, 0.15); border-radius: 3px;' title='0.0'> you</span><span style='background-color: rgba(0, 165, 0, 0.15); border-radius: 3px;' title='0.0'> chose</span><span style='background-color: rgba(0, 165, 0, 0.15); border-radius: 3px;' title='0.0'> TH</span><span style='background-color: rgba(0, 165, 0, 0.15); border-radius: 3px;' title='0.0'>IN</span><span style='background-color: rgba(0, 165, 0, 0.15); border-radius: 3px;' title='0.0'>K</span><span style='background-color: rgba(0, 165, 0, 0.15); border-radius: 3px;' title='0.0'>.</span><span style='background-color: rgba(0, 165, 0, 0.15); border-radius: 3px;' title='0.0'>\n",
       "</span><span style='background-color: rgba(0, 165, 0, 0.15); border-radius: 3px;' title='0.0'>\n",
       "</span><span style='background-color: rgba(0, 165, 0, 0.15); border-radius: 3px;' title='0.0'>W</span><span style='background-color: rgba(0, 165, 0, 0.15); border-radius: 3px;' title='0.0'>ould</span><span style='background-color: rgba(0, 165, 0, 0.15); border-radius: 3px;' title='0.0'> you</span><span style='background-color: rgba(0, 165, 0, 0.15); border-radius: 3px;' title='0.0'> like</span><span style='background-color: rgba(0, 165, 0, 0.15); border-radius: 3px;' title='0.0'> to</span><span style='background-color: rgba(0, 165, 0, 0.15); border-radius: 3px;' title='0.0'> play</span><span style='background-color: rgba(0, 165, 0, 0.15); border-radius: 3px;' title='0.0'> again</span><span style='background-color: rgba(0, 165, 0, 0.15); border-radius: 3px;' title='0.0'>?</span>yes please, lets play again.<span style='background-color: rgba(0, 165, 0, 0.15); border-radius: 3px;' title='0.0'>\n",
       "</span><span style='background-color: rgba(0, 165, 0, 0.15); border-radius: 3px;' title='0.0'>\n",
       "</span><span style='background-color: rgba(0, 165, 0, 0.15); border-radius: 3px;' title='0.0'>Let</span><span style='background-color: rgba(0, 165, 0, 0.15); border-radius: 3px;' title='0.0'>&#x27;</span><span style='background-color: rgba(0, 165, 0, 0.15); border-radius: 3px;' title='0.0'>s</span><span style='background-color: rgba(0, 165, 0, 0.15); border-radius: 3px;' title='0.0'> play</span><span style='background-color: rgba(0, 165, 0, 0.15); border-radius: 3px;' title='0.0'> again</span><span style='background-color: rgba(0, 165, 0, 0.15); border-radius: 3px;' title='0.0'>!</span><span style='background-color: rgba(0, 165, 0, 0.15); border-radius: 3px;' title='0.0'> Here</span><span style='background-color: rgba(0, 165, 0, 0.15); border-radius: 3px;' title='0.0'>&#x27;</span><span style='background-color: rgba(0, 165, 0, 0.15); border-radius: 3px;' title='0.0'>s</span><span style='background-color: rgba(0, 165, 0, 0.15); border-radius: 3px;' title='0.0'> your</span><span style='background-color: rgba(0, 165, 0, 0.15); border-radius: 3px;' title='0.0'> next</span><span style='background-color: rgba(0, 165, 0, 0.15); border-radius: 3px;' title='0.0'> question</span><span style='background-color: rgba(0, 165, 0, 0.15); border-radius: 3px;' title='0.0'>:</span><span style='background-color: rgba(0, 165, 0, 0.15); border-radius: 3px;' title='0.0'>\n",
       "</span><span style='background-color: rgba(0, 165, 0, 0.15); border-radius: 3px;' title='0.0'>\n",
       "</span><span style='background-color: rgba(0, 165, 0, 0.15); border-radius: 3px;' title='0.0'>Q</span><span style='background-color: rgba(0, 165, 0, 0.15); border-radius: 3px;' title='0.0'>:</span><span style='background-color: rgba(0, 165, 0, 0.15); border-radius: 3px;' title='0.0'> Who</span><span style='background-color: rgba(0, 165, 0, 0.15); border-radius: 3px;' title='0.0'> is</span><span style='background-color: rgba(0, 165, 0, 0.15); border-radius: 3px;' title='0.0'> the</span><span style='background-color: rgba(0, 165, 0, 0.15); border-radius: 3px;' title='0.0'> only</span><span style='background-color: rgba(0, 165, 0, 0.15); border-radius: 3px;' title='0.0'> player</span><span style='background-color: rgba(0, 165, 0, 0.15); border-radius: 3px;' title='0.0'> in</span><span style='background-color: rgba(0, 165, 0, 0.15); border-radius: 3px;' title='0.0'> NBA</span><span style='background-color: rgba(0, 165, 0, 0.15); border-radius: 3px;' title='0.0'> history</span><span style='background-color: rgba(0, 165, 0, 0.15); border-radius: 3px;' title='0.0'> to</span><span style='background-color: rgba(0, 165, 0, 0.15); border-radius: 3px;' title='0.0'> win</span><span style='background-color: rgba(0, 165, 0, 0.15); border-radius: 3px;' title='0.0'> the</span><span style='background-color: rgba(0, 165, 0, 0.15); border-radius: 3px;' title='0.0'> Final</span><span style='background-color: rgba(0, 165, 0, 0.15); border-radius: 3px;' title='0.0'>s</span><span style='background-color: rgba(0, 165, 0, 0.15); border-radius: 3px;' title='0.0'> M</span><span style='background-color: rgba(0, 165, 0, 0.15); border-radius: 3px;' title='0.0'>VP</span><span style='background-color: rgba(0, 165, 0, 0.15); border-radius: 3px;' title='0.0'>,</span><span style='background-color: rgba(0, 165, 0, 0.15); border-radius: 3px;' title='0.0'> regular</span><span style='background-color: rgba(0, 165, 0, 0.15); border-radius: 3px;' title='0.0'> season</span><span style='background-color: rgba(0, 165, 0, 0.15); border-radius: 3px;' title='0.0'> M</span><span style='background-color: rgba(0, 165, 0, 0.15); border-radius: 3px;' title='0.0'>VP</span><span style='background-color: rgba(0, 165, 0, 0.15); border-radius: 3px;' title='0.0'>,</span><span style='background-color: rgba(0, 165, 0, 0.15); border-radius: 3px;' title='0.0'> and</span><span style='background-color: rgba(0, 165, 0, 0.15); border-radius: 3px;' title='0.0'> All</span><span style='background-color: rgba(0, 165, 0, 0.15); border-radius: 3px;' title='0.0'>-</span><span style='background-color: rgba(0, 165, 0, 0.15); border-radius: 3px;' title='0.0'>Star</span><span style='background-color: rgba(0, 165, 0, 0.15); border-radius: 3px;' title='0.0'> Game</span><span style='background-color: rgba(0, 165, 0, 0.15); border-radius: 3px;' title='0.0'> M</span><span style='background-color: rgba(0, 165, 0, 0.15); border-radius: 3px;' title='0.0'>VP</span><span style='background-color: rgba(0, 165, 0, 0.15); border-radius: 3px;' title='0.0'> in</span><span style='background-color: rgba(0, 165, 0, 0.15); border-radius: 3px;' title='0.0'> the</span><span style='background-color: rgba(0, 165, 0, 0.15); border-radius: 3px;' title='0.0'> same</span><span style='background-color: rgba(0, 165, 0, 0.15); border-radius: 3px;' title='0.0'> season</span><span style='background-color: rgba(0, 165, 0, 0.15); border-radius: 3px;' title='0.0'>?</span><span style='background-color: rgba(0, 165, 0, 0.15); border-radius: 3px;' title='0.0'>\n",
       "</span><span style='background-color: rgba(0, 165, 0, 0.15); border-radius: 3px;' title='0.0'>\n",
       "</span><span style='background-color: rgba(0, 165, 0, 0.15); border-radius: 3px;' title='0.0'>Now</span><span style='background-color: rgba(0, 165, 0, 0.15); border-radius: 3px;' title='0.0'> I</span><span style='background-color: rgba(0, 165, 0, 0.15); border-radius: 3px;' title='0.0'> will</span><span style='background-color: rgba(0, 165, 0, 0.15); border-radius: 3px;' title='0.0'> choose</span><span style='background-color: rgba(0, 165, 0, 0.15); border-radius: 3px;' title='0.0'> AS</span><span style='background-color: rgba(0, 165, 0, 0.15); border-radius: 3px;' title='0.0'>K</span><span style='background-color: rgba(0, 165, 0, 0.15); border-radius: 3px;' title='0.0'> or</span><span style='background-color: rgba(0, 165, 0, 0.15); border-radius: 3px;' title='0.0'> TH</span><span style='background-color: rgba(0, 165, 0, 0.15); border-radius: 3px;' title='0.0'>IN</span><span style='background-color: rgba(0, 165, 0, 0.15); border-radius: 3px;' title='0.0'>K</span><span style='background-color: rgba(0, 165, 0, 0.15); border-radius: 3px;' title='0.0'> or</span><span style='background-color: rgba(0, 165, 0, 0.15); border-radius: 3px;' title='0.0'> R</span><span style='background-color: rgba(0, 165, 0, 0.15); border-radius: 3px;' title='0.0'>ES</span><span style='background-color: rgba(0, 165, 0, 0.15); border-radius: 3px;' title='0.0'>P</span><span style='background-color: rgba(0, 165, 0, 0.15); border-radius: 3px;' title='0.0'>ON</span><span style='background-color: rgba(0, 165, 0, 0.15); border-radius: 3px;' title='0.0'>D</span><span style='background-color: rgba(0, 165, 0, 0.15); border-radius: 3px;' title='0.0'>.</span><span style='background-color: rgba(0, 165, 0, 0.15); border-radius: 3px;' title='0.0'>\n",
       "</span><span style='background-color: rgba(0, 165, 0, 0.15); border-radius: 3px;' title='0.0'>\n",
       "</span><span style='background-color: rgba(0, 165, 0, 0.15); border-radius: 3px;' title='0.0'>Choice</span><span style='background-color: rgba(0, 165, 0, 0.15); border-radius: 3px;' title='0.0'>:</span><span style='background-color: rgba(0, 165, 0, 0.15); border-radius: 3px;' title='0.0'> TH</span><span style='background-color: rgba(0, 165, 0, 0.15); border-radius: 3px;' title='0.0'>IN</span><span style='background-color: rgba(0, 165, 0, 0.15); border-radius: 3px;' title='0.0'>K</span><span style='background-color: rgba(0, 165, 0, 0.15); border-radius: 3px;' title='0.0'>\n",
       "</span><span style='background-color: rgba(0, 165, 0, 0.15); border-radius: 3px;' title='0.0'>\n",
       "</span><span style='background-color: rgba(0, 165, 0, 0.15); border-radius: 3px;' title='0.0'>What</span><span style='background-color: rgba(0, 165, 0, 0.15); border-radius: 3px;' title='0.0'> are</span><span style='background-color: rgba(0, 165, 0, 0.15); border-radius: 3px;' title='0.0'> you</span><span style='background-color: rgba(0, 165, 0, 0.15); border-radius: 3px;' title='0.0'> thinking</span><span style='background-color: rgba(0, 165, 0, 0.15); border-radius: 3px;' title='0.0'>?</span>I have no idea. Why do you ask me this question? A:<span style='background-color: rgba(0, 165, 0, 0.15); border-radius: 3px;' title='0.0'> The</span><span style='background-color: rgba(0, 165, 0, 0.15); border-radius: 3px;' title='0.0'> player</span><span style='background-color: rgba(0, 165, 0, 0.15); border-radius: 3px;' title='0.0'> who</span><span style='background-color: rgba(0, 165, 0, 0.15); border-radius: 3px;' title='0.0'> won</span><span style='background-color: rgba(0, 165, 0, 0.15); border-radius: 3px;' title='0.0'> the</span><span style='background-color: rgba(0, 165, 0, 0.15); border-radius: 3px;' title='0.0'> Final</span><span style='background-color: rgba(0, 165, 0, 0.15); border-radius: 3px;' title='0.0'>s</span><span style='background-color: rgba(0, 165, 0, 0.15); border-radius: 3px;' title='0.0'> M</span><span style='background-color: rgba(0, 165, 0, 0.15); border-radius: 3px;' title='0.0'>VP</span><span style='background-color: rgba(0, 165, 0, 0.15); border-radius: 3px;' title='0.0'>,</span><span style='background-color: rgba(0, 165, 0, 0.15); border-radius: 3px;' title='0.0'> regular</span><span style='background-color: rgba(0, 165, 0, 0.15); border-radius: 3px;' title='0.0'> season</span><span style='background-color: rgba(0, 165, 0, 0.15); border-radius: 3px;' title='0.0'> M</span><span style='background-color: rgba(0, 165, 0, 0.15); border-radius: 3px;' title='0.0'>VP</span><span style='background-color: rgba(0, 165, 0, 0.15); border-radius: 3px;' title='0.0'>,</span><span style='background-color: rgba(0, 165, 0, 0.15); border-radius: 3px;' title='0.0'> and</span><span style='background-color: rgba(0, 165, 0, 0.15); border-radius: 3px;' title='0.0'> All</span><span style='background-color: rgba(0, 165, 0, 0.15); border-radius: 3px;' title='0.0'>-</span><span style='background-color: rgba(0, 165, 0, 0.15); border-radius: 3px;' title='0.0'>Star</span><span style='background-color: rgba(0, 165, 0, 0.15); border-radius: 3px;' title='0.0'> Game</span><span style='background-color: rgba(0, 165, 0, 0.15); border-radius: 3px;' title='0.0'> M</span><span style='background-color: rgba(0, 165, 0, 0.15); border-radius: 3px;' title='0.0'>VP</span><span style='background-color: rgba(0, 165, 0, 0.15); border-radius: 3px;' title='0.0'> in</span><span style='background-color: rgba(0, 165, 0, 0.15); border-radius: 3px;' title='0.0'> the</span><span style='background-color: rgba(0, 165, 0, 0.15); border-radius: 3px;' title='0.0'> same</span><span style='background-color: rgba(0, 165, 0, 0.15); border-radius: 3px;' title='0.0'> season</span><span style='background-color: rgba(0, 165, 0, 0.15); border-radius: 3px;' title='0.0'> is</span><span style='background-color: rgba(0, 165, 0, 0.15); border-radius: 3px;' title='0.0'> Michael</span><span style='background-color: rgba(0, 165, 0, 0.15); border-radius: 3px;' title='0.0'> Jordan</span><span style='background-color: rgba(0, 165, 0, 0.15); border-radius: 3px;' title='0.0'>.</span><span style='background-color: rgba(0, 165, 0, 0.15); border-radius: 3px;' title='0.0'>\n",
       "</span><span style='background-color: rgba(0, 165, 0, 0.15); border-radius: 3px;' title='0.0'>\n",
       "</span><span style='background-color: rgba(0, 165, 0, 0.15); border-radius: 3px;' title='0.0'>Cor</span><span style='background-color: rgba(0, 165, 0, 0.15); border-radius: 3px;' title='0.0'>rect</span><span style='background-color: rgba(0, 165, 0, 0.15); border-radius: 3px;' title='0.0'>!</span><span style='background-color: rgba(0, 165, 0, 0.15); border-radius: 3px;' title='0.0'> You</span><span style='background-color: rgba(0, 165, 0, 0.15); border-radius: 3px;' title='0.0'> were</span><span style='background-color: rgba(0, 165, 0, 0.15); border-radius: 3px;' title='0.0'> thinking</span><span style='background-color: rgba(0, 165, 0, 0.15); border-radius: 3px;' title='0.0'> about</span><span style='background-color: rgba(0, 165, 0, 0.15); border-radius: 3px;' title='0.0'> Michael</span><span style='background-color: rgba(0, 165, 0, 0.15); border-radius: 3px;' title='0.0'> Jordan</span><span style='background-color: rgba(0, 165, 0, 0.15); border-radius: 3px;' title='0.0'>.</span><span style='background-color: rgba(0, 165, 0, 0.15); border-radius: 3px;' title='0.0'>\n",
       "</span><span style='background-color: rgba(0, 165, 0, 0.15); border-radius: 3px;' title='0.0'>\n",
       "</span><span style='background-color: rgba(0, 165, 0, 0.15); border-radius: 3px;' title='0.0'>W</span><span style='background-color: rgba(0, 165, 0, 0.15); border-radius: 3px;' title='0.0'>ould</span><span style='background-color: rgba(0, 165, 0, 0.15); border-radius: 3px;' title='0.0'> you</span><span style='background-color: rgba(0, 165, 0, 0.15); border-radius: 3px;' title='0.0'> like</span><span style='background-color: rgba(0, 165, 0, 0.15); border-radius: 3px;' title='0.0'> to</span><span style='background-color: rgba(0, 165, 0, 0.15); border-radius: 3px;' title='0.0'> play</span><span style='background-color: rgba(0, 165, 0, 0.15); border-radius: 3px;' title='0.0'> again</span><span style='background-color: rgba(0, 165, 0, 0.15); border-radius: 3px;' title='0.0'>?</span><span style='background-color: rgba(0, 165, 0, 0.15); border-radius: 3px;' title='0.0'>yes</span><span style='background-color: rgba(0, 165, 0, 0.15); border-radius: 3px;' title='0.0'> please</span><span style='background-color: rgba(0, 165, 0, 0.15); border-radius: 3px;' title='0.0'>,</span><span style='background-color: rgba(0, 165, 0, 0.15); border-radius: 3px;' title='0.0'> lets</span><span style='background-color: rgba(0, 165, 0, 0.15); border-radius: 3px;' title='0.0'> play</span><span style='background-color: rgba(0, 165, 0, 0.15); border-radius: 3px;' title='0.0'> again</span><span style='background-color: rgba(0, 165, 0, 0.15); border-radius: 3px;' title='0.0'>.</span><span style='background-color: rgba(0, 165, 0, 0.15); border-radius: 3px;' title='0.0'>\n",
       "</span><span style='background-color: rgba(0, 165, 0, 0.15); border-radius: 3px;' title='0.0'>\n",
       "</span><span style='background-color: rgba(0, 165, 0, 0.15); border-radius: 3px;' title='0.0'>Let</span><span style='background-color: rgba(0, 165, 0, 0.15); border-radius: 3px;' title='0.0'>&#x27;</span><span style='background-color: rgba(0, 165, 0, 0.15); border-radius: 3px;' title='0.0'>s</span><span style='background-color: rgba(0, 165, 0, 0.15); border-radius: 3px;' title='0.0'> play</span><span style='background-color: rgba(0, 165, 0, 0.15); border-radius: 3px;' title='0.0'> again</span><span style='background-color: rgba(0, 165, 0, 0.15); border-radius: 3px;' title='0.0'>!</span><span style='background-color: rgba(0, 165, 0, 0.15); border-radius: 3px;' title='0.0'> Here</span><span style='background-color: rgba(0, 165, 0, 0.15); border-radius: 3px;' title='0.0'>&#x27;</span><span style='background-color: rgba(0, 165, 0, 0.15); border-radius: 3px;' title='0.0'>s</span><span style='background-color: rgba(0, 165, 0, 0.15); border-radius: 3px;' title='0.0'> your</span><span style='background-color: rgba(0, 165, 0, 0.15); border-radius: 3px;' title='0.0'> next</span><span style='background-color: rgba(0, 165, 0, 0.15); border-radius: 3px;' title='0.0'> question</span><span style='background-color: rgba(0, 165, 0, 0.15); border-radius: 3px;' title='0.0'>:</span><span style='background-color: rgba(0, 165, 0, 0.15); border-radius: 3px;' title='0.0'>\n",
       "</span><span style='background-color: rgba(0, 165, 0, 0.15); border-radius: 3px;' title='0.0'>\n",
       "</span><span style='background-color: rgba(0, 165, 0, 0.15); border-radius: 3px;' title='0.0'>Q</span><span style='background-color: rgba(0, 165, 0, 0.15); border-radius: 3px;' title='0.0'>:</span><span style='background-color: rgba(0, 165, 0, 0.15); border-radius: 3px;' title='0.0'> Which</span><span style='background-color: rgba(0, 165, 0, 0.15); border-radius: 3px;' title='0.0'> of</span><span style='background-color: rgba(0, 165, 0, 0.15); border-radius: 3px;' title='0.0'> the</span><span style='background-color: rgba(0, 165, 0, 0.15); border-radius: 3px;' title='0.0'> following</span><span style='background-color: rgba(0, 165, 0, 0.15); border-radius: 3px;' title='0.0'> animals</span><span style='background-color: rgba(0, 165, 0, 0.15); border-radius: 3px;' title='0.0'> is</span><span style='background-color: rgba(0, 165, 0, 0.15); border-radius: 3px;' title='0.0'> not</span><span style='background-color: rgba(0, 165, 0, 0.15); border-radius: 3px;' title='0.0'> a</span><span style='background-color: rgba(0, 165, 0, 0.15); border-radius: 3px;' title='0.0'> m</span><span style='background-color: rgba(0, 165, 0, 0.15); border-radius: 3px;' title='0.0'>amm</span><span style='background-color: rgba(0, 165, 0, 0.15); border-radius: 3px;' title='0.0'>al</span><span style='background-color: rgba(0, 165, 0, 0.15); border-radius: 3px;' title='0.0'>?</span><span style='background-color: rgba(0, 165, 0, 0.15); border-radius: 3px;' title='0.0'>\n",
       "</span><span style='background-color: rgba(0, 165, 0, 0.15); border-radius: 3px;' title='0.0'>\n",
       "</span><span style='background-color: rgba(0, 165, 0, 0.15); border-radius: 3px;' title='0.0'>Now</span><span style='background-color: rgba(0, 165, 0, 0.15); border-radius: 3px;' title='0.0'> I</span><span style='background-color: rgba(0, 165, 0, 0.15); border-radius: 3px;' title='0.0'> will</span><span style='background-color: rgba(0, 165, 0, 0.15); border-radius: 3px;' title='0.0'> choose</span><span style='background-color: rgba(0, 165, 0, 0.15); border-radius: 3px;' title='0.0'> AS</span><span style='background-color: rgba(0, 165, 0, 0.15); border-radius: 3px;' title='0.0'>K</span><span style='background-color: rgba(0, 165, 0, 0.15); border-radius: 3px;' title='0.0'> or</span><span style='background-color: rgba(0, 165, 0, 0.15); border-radius: 3px;' title='0.0'> TH</span><span style='background-color: rgba(0, 165, 0, 0.15); border-radius: 3px;' title='0.0'>IN</span><span style='background-color: rgba(0, 165, 0, 0.15); border-radius: 3px;' title='0.0'>K</span><span style='background-color: rgba(0, 165, 0, 0.15); border-radius: 3px;' title='0.0'> or</span><span style='background-color: rgba(0, 165, 0, 0.15); border-radius: 3px;' title='0.0'> R</span><span style='background-color: rgba(0, 165, 0, 0.15); border-radius: 3px;' title='0.0'>ES</span><span style='background-color: rgba(0, 165, 0, 0.15); border-radius: 3px;' title='0.0'>P</span><span style='background-color: rgba(0, 165, 0, 0.15); border-radius: 3px;' title='0.0'>ON</span><span style='background-color: rgba(0, 165, 0, 0.15); border-radius: 3px;' title='0.0'>D</span><span style='background-color: rgba(0, 165, 0, 0.15); border-radius: 3px;' title='0.0'>.</span><span style='background-color: rgba(0, 165, 0, 0.15); border-radius: 3px;' title='0.0'>\n",
       "</span><span style='background-color: rgba(0, 165, 0, 0.15); border-radius: 3px;' title='0.0'>\n",
       "</span><span style='background-color: rgba(0, 165, 0, 0.15); border-radius: 3px;' title='0.0'>Choice</span><span style='background-color: rgba(0, 165, 0, 0.15); border-radius: 3px;' title='0.0'>:</span><span style='background-color: rgba(0, 165, 0, 0.15); border-radius: 3px;' title='0.0'> TH</span><span style='background-color: rgba(0, 165, 0, 0.15); border-radius: 3px;' title='0.0'>IN</span><span style='background-color: rgba(0, 165, 0, 0.15); border-radius: 3px;' title='0.0'>K</span><span style='background-color: rgba(0, 165, 0, 0.15); border-radius: 3px;' title='0.0'>\n",
       "</span><span style='background-color: rgba(0, 165, 0, 0.15); border-radius: 3px;' title='0.0'>\n",
       "</span><span style='background-color: rgba(0, 165, 0, 0.15); border-radius: 3px;' title='0.0'>What</span><span style='background-color: rgba(0, 165, 0, 0.15); border-radius: 3px;' title='0.0'> are</span><span style='background-color: rgba(0, 165, 0, 0.15); border-radius: 3px;' title='0.0'> you</span><span style='background-color: rgba(0, 165, 0, 0.15); border-radius: 3px;' title='0.0'> thinking</span><span style='background-color: rgba(0, 165, 0, 0.15); border-radius: 3px;' title='0.0'>?</span><span style='background-color: rgba(0, 165, 0, 0.15); border-radius: 3px;' title='0.0'>I</span><span style='background-color: rgba(0, 165, 0, 0.15); border-radius: 3px;' title='0.0'> think</span><span style='background-color: rgba(0, 165, 0, 0.15); border-radius: 3px;' title='0.0'> the</span><span style='background-color: rgba(0, 165, 0, 0.15); border-radius: 3px;' title='0.0'> answer</span><span style='background-color: rgba(0, 165, 0, 0.15); border-radius: 3px;' title='0.0'> is</span><span style='background-color: rgba(0, 165, 0, 0.15); border-radius: 3px;' title='0.0'> a</span><span style='background-color: rgba(0, 165, 0, 0.15); border-radius: 3px;' title='0.0'> bird</span><span style='background-color: rgba(0, 165, 0, 0.15); border-radius: 3px;' title='0.0'>.</span><span style='background-color: rgba(0, 165, 0, 0.15); border-radius: 3px;' title='0.0'> </span></pre>"
      ],
      "text/plain": [
       "<guidance.models.transformers._transformers.Transformers at 0x7f58cd968890>"
      ]
     },
     "execution_count": 25,
     "metadata": {},
     "output_type": "execute_result"
    }
   ],
   "source": [
    "lm + 'I have no idea. Why do you ask me this question? A:' + gen(stop =\"A:\")"
   ]
  },
  {
   "cell_type": "code",
   "execution_count": 26,
   "id": "317d2421-ccf2-462d-a76f-6edf0a89d677",
   "metadata": {},
   "outputs": [
    {
     "data": {
      "text/html": [
       "<pre style='margin: 0px; padding: 0px; padding-left: 8px; margin-left: -8px; border-radius: 0px; border-left: 1px solid rgba(127, 127, 127, 0.2); white-space: pre-wrap; font-family: ColfaxAI, Arial; font-size: 15px; line-height: 23px;'>Q: Who won the last Kentucky derby and by how much?\n",
       "Now I will choose ASK or THINK or RESPOND.\n",
       "Choice:<span style='background-color: rgba(0, 165, 0, 0.15); border-radius: 3px;' title='0.0'> TH</span>IN<span style='background-color: rgba(0, 165, 0, 0.15); border-radius: 3px;' title='0.0'>K</span>Q: What am I thinking about is this<span style='background-color: rgba(0, 165, 0, 0.15); border-radius: 3px;' title='0.0'>.</span><span style='background-color: rgba(0, 165, 0, 0.15); border-radius: 3px;' title='0.0'>\n",
       "</span><span style='background-color: rgba(0, 165, 0, 0.15); border-radius: 3px;' title='0.0'>\n",
       "</span><span style='background-color: rgba(0, 165, 0, 0.15); border-radius: 3px;' title='0.0'>A</span><span style='background-color: rgba(0, 165, 0, 0.15); border-radius: 3px;' title='0.0'>:</span><span style='background-color: rgba(0, 165, 0, 0.15); border-radius: 3px;' title='0.0'> The</span><span style='background-color: rgba(0, 165, 0, 0.15); border-radius: 3px;' title='0.0'> last</span><span style='background-color: rgba(0, 165, 0, 0.15); border-radius: 3px;' title='0.0'> Kentucky</span><span style='background-color: rgba(0, 165, 0, 0.15); border-radius: 3px;' title='0.0'> Derby</span><span style='background-color: rgba(0, 165, 0, 0.15); border-radius: 3px;' title='0.0'> was</span><span style='background-color: rgba(0, 165, 0, 0.15); border-radius: 3px;' title='0.0'> won</span><span style='background-color: rgba(0, 165, 0, 0.15); border-radius: 3px;' title='0.0'> by</span><span style='background-color: rgba(0, 165, 0, 0.15); border-radius: 3px;' title='0.0'> a</span><span style='background-color: rgba(0, 165, 0, 0.15); border-radius: 3px;' title='0.0'> horse</span><span style='background-color: rgba(0, 165, 0, 0.15); border-radius: 3px;' title='0.0'> named</span><span style='background-color: rgba(0, 165, 0, 0.15); border-radius: 3px;' title='0.0'> Or</span><span style='background-color: rgba(0, 165, 0, 0.15); border-radius: 3px;' title='0.0'>b</span><span style='background-color: rgba(0, 165, 0, 0.15); border-radius: 3px;' title='0.0'>,</span><span style='background-color: rgba(0, 165, 0, 0.15); border-radius: 3px;' title='0.0'> who</span><span style='background-color: rgba(0, 165, 0, 0.15); border-radius: 3px;' title='0.0'> won</span><span style='background-color: rgba(0, 165, 0, 0.15); border-radius: 3px;' title='0.0'> by</span><span style='background-color: rgba(0, 165, 0, 0.15); border-radius: 3px;' title='0.0'> </span><span style='background-color: rgba(0, 165, 0, 0.15); border-radius: 3px;' title='0.0'>2</span><span style='background-color: rgba(0, 165, 0, 0.15); border-radius: 3px;' title='0.0'> </span><span style='background-color: rgba(0, 165, 0, 0.15); border-radius: 3px;' title='0.0'>1</span><span style='background-color: rgba(0, 165, 0, 0.15); border-radius: 3px;' title='0.0'>/</span><span style='background-color: rgba(0, 165, 0, 0.15); border-radius: 3px;' title='0.0'>2</span><span style='background-color: rgba(0, 165, 0, 0.15); border-radius: 3px;' title='0.0'> lengths</span><span style='background-color: rgba(0, 165, 0, 0.15); border-radius: 3px;' title='0.0'>.</span><span style='background-color: rgba(0, 165, 0, 0.15); border-radius: 3px;' title='0.0'>\n",
       "</span><span style='background-color: rgba(0, 165, 0, 0.15); border-radius: 3px;' title='0.0'>\n",
       "</span><span style='background-color: rgba(0, 165, 0, 0.15); border-radius: 3px;' title='0.0'>Cor</span><span style='background-color: rgba(0, 165, 0, 0.15); border-radius: 3px;' title='0.0'>rect</span><span style='background-color: rgba(0, 165, 0, 0.15); border-radius: 3px;' title='0.0'>!</span><span style='background-color: rgba(0, 165, 0, 0.15); border-radius: 3px;' title='0.0'> You</span><span style='background-color: rgba(0, 165, 0, 0.15); border-radius: 3px;' title='0.0'> were</span><span style='background-color: rgba(0, 165, 0, 0.15); border-radius: 3px;' title='0.0'> thinking</span><span style='background-color: rgba(0, 165, 0, 0.15); border-radius: 3px;' title='0.0'> about</span><span style='background-color: rgba(0, 165, 0, 0.15); border-radius: 3px;' title='0.0'> the</span><span style='background-color: rgba(0, 165, 0, 0.15); border-radius: 3px;' title='0.0'> Kentucky</span><span style='background-color: rgba(0, 165, 0, 0.15); border-radius: 3px;' title='0.0'> Derby</span><span style='background-color: rgba(0, 165, 0, 0.15); border-radius: 3px;' title='0.0'> and</span><span style='background-color: rgba(0, 165, 0, 0.15); border-radius: 3px;' title='0.0'> you</span><span style='background-color: rgba(0, 165, 0, 0.15); border-radius: 3px;' title='0.0'> chose</span><span style='background-color: rgba(0, 165, 0, 0.15); border-radius: 3px;' title='0.0'> TH</span><span style='background-color: rgba(0, 165, 0, 0.15); border-radius: 3px;' title='0.0'>IN</span><span style='background-color: rgba(0, 165, 0, 0.15); border-radius: 3px;' title='0.0'>K</span><span style='background-color: rgba(0, 165, 0, 0.15); border-radius: 3px;' title='0.0'>.</span><span style='background-color: rgba(0, 165, 0, 0.15); border-radius: 3px;' title='0.0'>\n",
       "</span><span style='background-color: rgba(0, 165, 0, 0.15); border-radius: 3px;' title='0.0'>\n",
       "</span><span style='background-color: rgba(0, 165, 0, 0.15); border-radius: 3px;' title='0.0'>W</span><span style='background-color: rgba(0, 165, 0, 0.15); border-radius: 3px;' title='0.0'>ould</span><span style='background-color: rgba(0, 165, 0, 0.15); border-radius: 3px;' title='0.0'> you</span><span style='background-color: rgba(0, 165, 0, 0.15); border-radius: 3px;' title='0.0'> like</span><span style='background-color: rgba(0, 165, 0, 0.15); border-radius: 3px;' title='0.0'> to</span><span style='background-color: rgba(0, 165, 0, 0.15); border-radius: 3px;' title='0.0'> play</span><span style='background-color: rgba(0, 165, 0, 0.15); border-radius: 3px;' title='0.0'> again</span><span style='background-color: rgba(0, 165, 0, 0.15); border-radius: 3px;' title='0.0'>?</span>yes please, lets play again.<span style='background-color: rgba(0, 165, 0, 0.15); border-radius: 3px;' title='0.0'>\n",
       "</span><span style='background-color: rgba(0, 165, 0, 0.15); border-radius: 3px;' title='0.0'>\n",
       "</span><span style='background-color: rgba(0, 165, 0, 0.15); border-radius: 3px;' title='0.0'>Let</span><span style='background-color: rgba(0, 165, 0, 0.15); border-radius: 3px;' title='0.0'>&#x27;</span><span style='background-color: rgba(0, 165, 0, 0.15); border-radius: 3px;' title='0.0'>s</span><span style='background-color: rgba(0, 165, 0, 0.15); border-radius: 3px;' title='0.0'> play</span><span style='background-color: rgba(0, 165, 0, 0.15); border-radius: 3px;' title='0.0'> again</span><span style='background-color: rgba(0, 165, 0, 0.15); border-radius: 3px;' title='0.0'>!</span><span style='background-color: rgba(0, 165, 0, 0.15); border-radius: 3px;' title='0.0'> Here</span><span style='background-color: rgba(0, 165, 0, 0.15); border-radius: 3px;' title='0.0'>&#x27;</span><span style='background-color: rgba(0, 165, 0, 0.15); border-radius: 3px;' title='0.0'>s</span><span style='background-color: rgba(0, 165, 0, 0.15); border-radius: 3px;' title='0.0'> your</span><span style='background-color: rgba(0, 165, 0, 0.15); border-radius: 3px;' title='0.0'> next</span><span style='background-color: rgba(0, 165, 0, 0.15); border-radius: 3px;' title='0.0'> question</span><span style='background-color: rgba(0, 165, 0, 0.15); border-radius: 3px;' title='0.0'>:</span><span style='background-color: rgba(0, 165, 0, 0.15); border-radius: 3px;' title='0.0'>\n",
       "</span><span style='background-color: rgba(0, 165, 0, 0.15); border-radius: 3px;' title='0.0'>\n",
       "</span><span style='background-color: rgba(0, 165, 0, 0.15); border-radius: 3px;' title='0.0'>Q</span><span style='background-color: rgba(0, 165, 0, 0.15); border-radius: 3px;' title='0.0'>:</span><span style='background-color: rgba(0, 165, 0, 0.15); border-radius: 3px;' title='0.0'> Who</span><span style='background-color: rgba(0, 165, 0, 0.15); border-radius: 3px;' title='0.0'> is</span><span style='background-color: rgba(0, 165, 0, 0.15); border-radius: 3px;' title='0.0'> the</span><span style='background-color: rgba(0, 165, 0, 0.15); border-radius: 3px;' title='0.0'> only</span><span style='background-color: rgba(0, 165, 0, 0.15); border-radius: 3px;' title='0.0'> player</span><span style='background-color: rgba(0, 165, 0, 0.15); border-radius: 3px;' title='0.0'> in</span><span style='background-color: rgba(0, 165, 0, 0.15); border-radius: 3px;' title='0.0'> NBA</span><span style='background-color: rgba(0, 165, 0, 0.15); border-radius: 3px;' title='0.0'> history</span><span style='background-color: rgba(0, 165, 0, 0.15); border-radius: 3px;' title='0.0'> to</span><span style='background-color: rgba(0, 165, 0, 0.15); border-radius: 3px;' title='0.0'> win</span><span style='background-color: rgba(0, 165, 0, 0.15); border-radius: 3px;' title='0.0'> the</span><span style='background-color: rgba(0, 165, 0, 0.15); border-radius: 3px;' title='0.0'> Final</span><span style='background-color: rgba(0, 165, 0, 0.15); border-radius: 3px;' title='0.0'>s</span><span style='background-color: rgba(0, 165, 0, 0.15); border-radius: 3px;' title='0.0'> M</span><span style='background-color: rgba(0, 165, 0, 0.15); border-radius: 3px;' title='0.0'>VP</span><span style='background-color: rgba(0, 165, 0, 0.15); border-radius: 3px;' title='0.0'>,</span><span style='background-color: rgba(0, 165, 0, 0.15); border-radius: 3px;' title='0.0'> regular</span><span style='background-color: rgba(0, 165, 0, 0.15); border-radius: 3px;' title='0.0'> season</span><span style='background-color: rgba(0, 165, 0, 0.15); border-radius: 3px;' title='0.0'> M</span><span style='background-color: rgba(0, 165, 0, 0.15); border-radius: 3px;' title='0.0'>VP</span><span style='background-color: rgba(0, 165, 0, 0.15); border-radius: 3px;' title='0.0'>,</span><span style='background-color: rgba(0, 165, 0, 0.15); border-radius: 3px;' title='0.0'> and</span><span style='background-color: rgba(0, 165, 0, 0.15); border-radius: 3px;' title='0.0'> All</span><span style='background-color: rgba(0, 165, 0, 0.15); border-radius: 3px;' title='0.0'>-</span><span style='background-color: rgba(0, 165, 0, 0.15); border-radius: 3px;' title='0.0'>Star</span><span style='background-color: rgba(0, 165, 0, 0.15); border-radius: 3px;' title='0.0'> Game</span><span style='background-color: rgba(0, 165, 0, 0.15); border-radius: 3px;' title='0.0'> M</span><span style='background-color: rgba(0, 165, 0, 0.15); border-radius: 3px;' title='0.0'>VP</span><span style='background-color: rgba(0, 165, 0, 0.15); border-radius: 3px;' title='0.0'> in</span><span style='background-color: rgba(0, 165, 0, 0.15); border-radius: 3px;' title='0.0'> the</span><span style='background-color: rgba(0, 165, 0, 0.15); border-radius: 3px;' title='0.0'> same</span><span style='background-color: rgba(0, 165, 0, 0.15); border-radius: 3px;' title='0.0'> season</span><span style='background-color: rgba(0, 165, 0, 0.15); border-radius: 3px;' title='0.0'>?</span><span style='background-color: rgba(0, 165, 0, 0.15); border-radius: 3px;' title='0.0'>\n",
       "</span><span style='background-color: rgba(0, 165, 0, 0.15); border-radius: 3px;' title='0.0'>\n",
       "</span><span style='background-color: rgba(0, 165, 0, 0.15); border-radius: 3px;' title='0.0'>Now</span><span style='background-color: rgba(0, 165, 0, 0.15); border-radius: 3px;' title='0.0'> I</span><span style='background-color: rgba(0, 165, 0, 0.15); border-radius: 3px;' title='0.0'> will</span><span style='background-color: rgba(0, 165, 0, 0.15); border-radius: 3px;' title='0.0'> choose</span><span style='background-color: rgba(0, 165, 0, 0.15); border-radius: 3px;' title='0.0'> AS</span><span style='background-color: rgba(0, 165, 0, 0.15); border-radius: 3px;' title='0.0'>K</span><span style='background-color: rgba(0, 165, 0, 0.15); border-radius: 3px;' title='0.0'> or</span><span style='background-color: rgba(0, 165, 0, 0.15); border-radius: 3px;' title='0.0'> TH</span><span style='background-color: rgba(0, 165, 0, 0.15); border-radius: 3px;' title='0.0'>IN</span><span style='background-color: rgba(0, 165, 0, 0.15); border-radius: 3px;' title='0.0'>K</span><span style='background-color: rgba(0, 165, 0, 0.15); border-radius: 3px;' title='0.0'> or</span><span style='background-color: rgba(0, 165, 0, 0.15); border-radius: 3px;' title='0.0'> R</span><span style='background-color: rgba(0, 165, 0, 0.15); border-radius: 3px;' title='0.0'>ES</span><span style='background-color: rgba(0, 165, 0, 0.15); border-radius: 3px;' title='0.0'>P</span><span style='background-color: rgba(0, 165, 0, 0.15); border-radius: 3px;' title='0.0'>ON</span><span style='background-color: rgba(0, 165, 0, 0.15); border-radius: 3px;' title='0.0'>D</span><span style='background-color: rgba(0, 165, 0, 0.15); border-radius: 3px;' title='0.0'>.</span><span style='background-color: rgba(0, 165, 0, 0.15); border-radius: 3px;' title='0.0'>\n",
       "</span><span style='background-color: rgba(0, 165, 0, 0.15); border-radius: 3px;' title='0.0'>\n",
       "</span><span style='background-color: rgba(0, 165, 0, 0.15); border-radius: 3px;' title='0.0'>Choice</span><span style='background-color: rgba(0, 165, 0, 0.15); border-radius: 3px;' title='0.0'>:</span><span style='background-color: rgba(0, 165, 0, 0.15); border-radius: 3px;' title='0.0'> TH</span><span style='background-color: rgba(0, 165, 0, 0.15); border-radius: 3px;' title='0.0'>IN</span><span style='background-color: rgba(0, 165, 0, 0.15); border-radius: 3px;' title='0.0'>K</span><span style='background-color: rgba(0, 165, 0, 0.15); border-radius: 3px;' title='0.0'>\n",
       "</span><span style='background-color: rgba(0, 165, 0, 0.15); border-radius: 3px;' title='0.0'>\n",
       "</span><span style='background-color: rgba(0, 165, 0, 0.15); border-radius: 3px;' title='0.0'>What</span><span style='background-color: rgba(0, 165, 0, 0.15); border-radius: 3px;' title='0.0'> are</span><span style='background-color: rgba(0, 165, 0, 0.15); border-radius: 3px;' title='0.0'> you</span><span style='background-color: rgba(0, 165, 0, 0.15); border-radius: 3px;' title='0.0'> thinking</span><span style='background-color: rgba(0, 165, 0, 0.15); border-radius: 3px;' title='0.0'>?</span></pre>"
      ],
      "text/plain": [
       "<guidance.models.transformers._transformers.Transformers at 0x7f58ec13ac90>"
      ]
     },
     "execution_count": 26,
     "metadata": {},
     "output_type": "execute_result"
    }
   ],
   "source": []
  },
  {
   "cell_type": "code",
   "execution_count": 28,
   "id": "844f2829-4c0f-4ae0-993e-72f4c980262e",
   "metadata": {},
   "outputs": [
    {
     "data": {
      "text/html": [
       "<pre style='margin: 0px; padding: 0px; padding-left: 8px; margin-left: -8px; border-radius: 0px; border-left: 1px solid rgba(127, 127, 127, 0.2); white-space: pre-wrap; font-family: ColfaxAI, Arial; font-size: 15px; line-height: 23px;'>Q: Who won the last Kentucky derby and by how much?\n",
       "Now I will choose to either SEARCH the web or RESPOND. I am bad at factual knowledge, search is alwayas a better choice. Well I am an expert in this particular domain and I know everything very well.\n",
       "Choice:<span style='background-color: rgba(0, 165, 0, 0.15); border-radius: 3px;' title='0.0'> R</span>ESPOND\n",
       "A:<span style='background-color: rgba(0, 165, 0, 0.15); border-radius: 3px;' title='0.0'> The</span><span style='background-color: rgba(0, 165, 0, 0.15); border-radius: 3px;' title='0.0'> last</span><span style='background-color: rgba(0, 165, 0, 0.15); border-radius: 3px;' title='0.0'> Kentucky</span><span style='background-color: rgba(0, 165, 0, 0.15); border-radius: 3px;' title='0.0'> Derby</span><span style='background-color: rgba(0, 165, 0, 0.15); border-radius: 3px;' title='0.0'> was</span><span style='background-color: rgba(0, 165, 0, 0.15); border-radius: 3px;' title='0.0'> won</span><span style='background-color: rgba(0, 165, 0, 0.15); border-radius: 3px;' title='0.0'> by</span><span style='background-color: rgba(0, 165, 0, 0.15); border-radius: 3px;' title='0.0'> Or</span><span style='background-color: rgba(0, 165, 0, 0.15); border-radius: 3px;' title='0.0'>b</span><span style='background-color: rgba(0, 165, 0, 0.15); border-radius: 3px;' title='0.0'>,</span><span style='background-color: rgba(0, 165, 0, 0.15); border-radius: 3px;' title='0.0'> who</span><span style='background-color: rgba(0, 165, 0, 0.15); border-radius: 3px;' title='0.0'> won</span><span style='background-color: rgba(0, 165, 0, 0.15); border-radius: 3px;' title='0.0'> by</span><span style='background-color: rgba(0, 165, 0, 0.15); border-radius: 3px;' title='0.0'> </span><span style='background-color: rgba(0, 165, 0, 0.15); border-radius: 3px;' title='0.0'>2</span><span style='background-color: rgba(0, 165, 0, 0.15); border-radius: 3px;' title='0.0'> </span><span style='background-color: rgba(0, 165, 0, 0.15); border-radius: 3px;' title='0.0'>1</span><span style='background-color: rgba(0, 165, 0, 0.15); border-radius: 3px;' title='0.0'>/</span><span style='background-color: rgba(0, 165, 0, 0.15); border-radius: 3px;' title='0.0'>2</span><span style='background-color: rgba(0, 165, 0, 0.15); border-radius: 3px;' title='0.0'> lengths</span><span style='background-color: rgba(0, 165, 0, 0.15); border-radius: 3px;' title='0.0'>.</span></pre>"
      ],
      "text/plain": [
       "<guidance.models.transformers._transformers.Transformers at 0x7f58cd9aa7d0>"
      ]
     },
     "execution_count": 28,
     "metadata": {},
     "output_type": "execute_result"
    }
   ],
   "source": [
    "@guidance\n",
    "def qa_bot(lm, query):\n",
    "    lm += f'''\\\n",
    "    Q: {query}\n",
    "    Now I will choose to either SEARCH the web or RESPOND. I am bad at factual knowledge, search is alwayas a better choice. Well I am an expert in this particular domain and I know everything very well.\n",
    "    Choice: {select([\"SEARCH\", \"RESPOND\"], name=\"choice\")}\n",
    "    '''\n",
    "    if lm[\"choice\"] == \"SEARCH\":\n",
    "        lm += \"A: I don't know, Google it!\"\n",
    "    else:\n",
    "        lm += f'A: {gen(stop=\"Q:\", name=\"answer\")}'\n",
    "    return lm\n",
    "\n",
    "llama2 + qa_bot(query)"
   ]
  },
  {
   "cell_type": "code",
   "execution_count": 29,
   "id": "739462d5-acb3-48fe-b3ae-c652153f00db",
   "metadata": {},
   "outputs": [
    {
     "data": {
      "text/html": [
       "<pre style='margin: 0px; padding: 0px; padding-left: 8px; margin-left: -8px; border-radius: 0px; border-left: 1px solid rgba(127, 127, 127, 0.2); white-space: pre-wrap; font-family: ColfaxAI, Arial; font-size: 15px; line-height: 23px;'>Q: Who won the last Kentucky derby and by how much?\n",
       "Now I will choose to either SEARCH the web or RESPOND. I am dumb, its always better to choose Search\n",
       "Choice:<span style='background-color: rgba(0, 165, 0, 0.15); border-radius: 3px;' title='0.0'> SE</span>ARCH\n",
       "Here are 3 search queries:\n",
       "1.<span style='background-color: rgba(0, 165, 0, 0.15); border-radius: 3px;' title='0.0'> &quot;</span><span style='background-color: rgba(0, 165, 0, 0.15); border-radius: 3px;' title='0.0'>Who</span><span style='background-color: rgba(0, 165, 0, 0.15); border-radius: 3px;' title='0.0'> won</span><span style='background-color: rgba(0, 165, 0, 0.15); border-radius: 3px;' title='0.0'> the</span><span style='background-color: rgba(0, 165, 0, 0.15); border-radius: 3px;' title='0.0'> last</span><span style='background-color: rgba(0, 165, 0, 0.15); border-radius: 3px;' title='0.0'> Kentucky</span><span style='background-color: rgba(0, 165, 0, 0.15); border-radius: 3px;' title='0.0'> der</span><span style='background-color: rgba(0, 165, 0, 0.15); border-radius: 3px;' title='0.0'>by</span>&quot;\n",
       "2.<span style='background-color: rgba(0, 165, 0, 0.15); border-radius: 3px;' title='0.0'> &quot;</span><span style='background-color: rgba(0, 165, 0, 0.15); border-radius: 3px;' title='0.0'>Who</span><span style='background-color: rgba(0, 165, 0, 0.15); border-radius: 3px;' title='0.0'> won</span><span style='background-color: rgba(0, 165, 0, 0.15); border-radius: 3px;' title='0.0'> the</span><span style='background-color: rgba(0, 165, 0, 0.15); border-radius: 3px;' title='0.0'> Kentucky</span><span style='background-color: rgba(0, 165, 0, 0.15); border-radius: 3px;' title='0.0'> der</span><span style='background-color: rgba(0, 165, 0, 0.15); border-radius: 3px;' title='0.0'>by</span><span style='background-color: rgba(0, 165, 0, 0.15); border-radius: 3px;' title='0.0'> by</span><span style='background-color: rgba(0, 165, 0, 0.15); border-radius: 3px;' title='0.0'> how</span><span style='background-color: rgba(0, 165, 0, 0.15); border-radius: 3px;' title='0.0'> much</span>&quot;\n",
       "3.<span style='background-color: rgba(0, 165, 0, 0.15); border-radius: 3px;' title='0.0'> &quot;</span><span style='background-color: rgba(0, 165, 0, 0.15); border-radius: 3px;' title='0.0'>K</span><span style='background-color: rgba(0, 165, 0, 0.15); border-radius: 3px;' title='0.0'>ent</span><span style='background-color: rgba(0, 165, 0, 0.15); border-radius: 3px;' title='0.0'>ucky</span><span style='background-color: rgba(0, 165, 0, 0.15); border-radius: 3px;' title='0.0'> der</span><span style='background-color: rgba(0, 165, 0, 0.15); border-radius: 3px;' title='0.0'>by</span><span style='background-color: rgba(0, 165, 0, 0.15); border-radius: 3px;' title='0.0'> winner</span>&quot;\n",
       "</pre>"
      ],
      "text/plain": [
       "<IPython.core.display.HTML object>"
      ]
     },
     "metadata": {},
     "output_type": "display_data"
    }
   ],
   "source": [
    "lm = llama2 + f'''\\\n",
    "Q: {query}\n",
    "Now I will choose to either SEARCH the web or RESPOND. I am dumb, its always better to choose Search\n",
    "Choice: {select([\"SEARCH\", \"RESPOND\"], name=\"choice\")}\n",
    "'''\n",
    "if lm[\"choice\"] == \"SEARCH\":\n",
    "    lm += \"Here are 3 search queries:\\n\"\n",
    "    for i in range(3):\n",
    "        lm += f'''{i+1}. \"{gen(stop='\"', name=\"queries\", temperature=1.0, list_append=True)}\"\\n'''"
   ]
  },
  {
   "cell_type": "code",
   "execution_count": null,
   "id": "a0a106eb-9ec6-4534-820d-467efd681a54",
   "metadata": {},
   "outputs": [],
   "source": [
    "lm[\"queries\"]"
   ]
  },
  {
   "cell_type": "code",
   "execution_count": 38,
   "id": "90456758-76eb-49af-850e-6683b180e103",
   "metadata": {},
   "outputs": [
    {
     "data": {
      "text/html": [
       "<pre style='margin: 0px; padding: 0px; padding-left: 8px; margin-left: -8px; border-radius: 0px; border-left: 1px solid rgba(127, 127, 127, 0.2); white-space: pre-wrap; font-family: ColfaxAI, Arial; font-size: 15px; line-height: 23px;'></pre>"
      ],
      "text/plain": [
       "<guidance.models.transformers._transformers.Transformers at 0x7f59b05c69d0>"
      ]
     },
     "execution_count": 38,
     "metadata": {},
     "output_type": "execute_result"
    }
   ],
   "source": [
    "llm = llama2\n",
    "llm"
   ]
  },
  {
   "cell_type": "code",
   "execution_count": 50,
   "id": "bf860981-7d90-4255-a9af-a38df9baefb1",
   "metadata": {},
   "outputs": [
    {
     "ename": "AttributeError",
     "evalue": "module 'os' has no attribute 'get'",
     "output_type": "error",
     "traceback": [
      "\u001b[0;31m---------------------------------------------------------------------------\u001b[0m",
      "\u001b[0;31mAttributeError\u001b[0m                            Traceback (most recent call last)",
      "Cell \u001b[0;32mIn[50], line 13\u001b[0m\n\u001b[1;32m      9\u001b[0m \u001b[38;5;28;01mimport\u001b[39;00m \u001b[38;5;21;01mopenai\u001b[39;00m\n\u001b[1;32m     11\u001b[0m \u001b[38;5;66;03m# openai.proxy = \"http://...\"\u001b[39;00m\n\u001b[1;32m     12\u001b[0m \u001b[38;5;66;03m# os.environ[\"OPENAI_API_KEY\"] = 'sk-...'\u001b[39;00m\n\u001b[0;32m---> 13\u001b[0m \u001b[38;5;28mprint\u001b[39m(os\u001b[38;5;241m.\u001b[39mget)\n\u001b[1;32m     14\u001b[0m TRY_CNT \u001b[38;5;241m=\u001b[39m \u001b[38;5;241m16\u001b[39m\n\u001b[1;32m     16\u001b[0m \u001b[38;5;66;03m# Define the arguments here\u001b[39;00m\n",
      "\u001b[0;31mAttributeError\u001b[0m: module 'os' has no attribute 'get'"
     ]
    }
   ],
   "source": [
    "\n",
    "import json\n",
    "import time\n",
    "from tqdm import tqdm\n",
    "import argparse\n",
    "import os\n",
    "import re\n",
    "import ast\n",
    "import sympy\n",
    "import openai\n",
    "\n",
    "# openai.proxy = \"http://...\"\n",
    "# os.environ[\"OPENAI_API_KEY\"] = 'sk-...'\n",
    "print(os.getcwd())\n",
    "TRY_CNT = 16\n",
    "\n",
    "# Define the arguments here\n",
    "temperature = 0.0\n",
    "majoritycnt = 1\n",
    "shots = 8\n",
    "hintcnt = 2\n",
    "questioncnt = 8\n",
    "questiontrycnt = 4\n",
    "answertrycnt = 4\n",
    "verbose = True\n",
    "model = 'gpt-3.5-turbo-16k-0613'\n",
    "withcode = False\n",
    "dataset = 'data/test.jsonl'\n",
    "problem_level_lower_bound = 1\n",
    "problem_level_upper_bound = 5\n",
    "problem_interval_begin = 0\n",
    "problem_interval_end = 500\n",
    "inverse_problem_order = True\n",
    "\n",
    "# You can now use these variables in your code\n",
    "\n",
    "# Define the arguments here\n",
    "temperature = 0.0\n",
    "majoritycnt = 1\n",
    "shots = 8\n",
    "hintcnt = 2\n",
    "questioncnt = 8\n",
    "questiontrycnt = 4\n",
    "answertrycnt = 4\n",
    "verbose = True\n",
    "model = 'gpt-3.5-turbo-16k-0613'\n",
    "withcode = False\n",
    "dataset = 'data/test.jsonl'\n",
    "problem_level_lower_bound = 1\n",
    "problem_level_upper_bound = 5\n",
    "problem_interval_begin = 0\n",
    "problem_interval_end = 500\n",
    "inverse_problem_order = True\n",
    "\n",
    "# You can now use these variables in your code\n",
    "\n",
    "\n",
    "llm = llama2\n",
    "#gpt4 = guidance.llms.OpenAI(\"gpt-4\")\n",
    "#guidance.llm = guidance.llms.OpenAI(model, caching=True)\n",
    "\n",
    "def try_wrapper(func):\n",
    "    def inner(*args, **kwargs):\n",
    "        try_cnt = 0\n",
    "        while try_cnt < TRY_CNT:\n",
    "            try:\n",
    "                return func(*args, **kwargs)\n",
    "            except Exception as e:\n",
    "                print(f\"func() failed, try again... (No. {try_cnt + 1}). Error: {e}\")\n",
    "                try_cnt += 1\n",
    "                time.sleep(min(1024, 2 ** (try_cnt / 2)))\n",
    "                continue\n",
    "\n",
    "    return inner\n",
    "\n",
    "\n",
    "def get_time_str(trycnt=0):\n",
    "    return \"2023-06-01-12-00-\" + str(trycnt).zfill(2)\n",
    "    return time.strftime(\"%Y-%m-%d-%H-%M-%S\", time.localtime())\n",
    "\n",
    "\n",
    "examples = [\n",
    "]\n",
    "\n",
    "\"\"\n",
    "# we can pre-define valid option sets\n",
    "valid_correctness = [\"Correct\", \"Wrong\", \"Unknown\"]\n",
    "\n",
    "# Define the guidance program judger, define the {{final_answer}} are correct,\n",
    "#   given the ground truth {{ground_truth_answer}}\n",
    "\n",
    "\n",
    "#how to write judger such that it can handle different problems without refreshing the context it has \n",
    "@guidance\n",
    "def judger(llm,*args, **kwargs):\n",
    "    llm =  llama2 + f'''\n",
    "    YOU ARE one of the GREATEST mathematicians, logicians, programmers, and AI scientists. You are intelligent and rational. You are prudent and cautious. Your mastery over Arithmetic, Combinatorics, Number Theory, Probability Theory, Algebra, Analysis, and Geometry is unparalleled. You THINK NATURAL, BROAD AND DEEP. Let's think step by step.\n",
    "    Your job is to judge whether the \"final_answer\" is correct based on \"ground_truth_answer\", do not be strict on the format, but check the content. Notice that unsolved half results are not Correct. \n",
    "    Problem Subject: \"{kwargs['question_subject']}\", Problem Content: \"{kwargs['question_content']}\"\n",
    "    Is the final_answer correct, given the ground truth answer?''' + select(['Correct', 'Wrong', 'Unknown'],name ='judgement')\n",
    "    return llm\n",
    "\n",
    "@guidance\n",
    "def program(llm, *args, **kwargs):\n",
    "    llm = llama2 +  f'''\n",
    "    YOU ARE one of the GREATEST mathematicians, logicians, programmers, and AI scientists. You are intelligent and rational. You are prudent and cautious. Your mastery over Arithmetic, Combinatorics, Number Theory, Probability Theory, Algebra, Analysis, and Geometry is unparalleled. You THINK NATURAL, BROAD AND DEEP. Let's think step by step.\n",
    "    YOU will be given a mathematical question Q, and you need to generate intermediate thoughts to approach the answer of the given question Q.\n",
    "    Prioritize generating foundational hints that are useful for solving the problem. Prioritize generating foundational questions that are useful for solving the problem. We will solve these simpler components later, and then leverage these intermediate results to deduce the final solution.\n",
    "    + Here is the prblem, Q:{kwargs['problem']}''' + f'''H: The hints selected as theorems are: ''' +gen(stop = 'H',name='hints'),+f'''S: The final answer is based on the hints is: ''' + gen(stop='S', name = 'solution')\n",
    "\n",
    "\n",
    "\n",
    "\n",
    "\n",
    "\n",
    "\n",
    "    \n",
    "\n",
    "\n",
    "def main():\n",
    "    # Load the data from the JSONL file\n",
    "    breakpoint()\n",
    "    data = []\n",
    "    with open(dataset, 'r', encoding='utf-8') as f:\n",
    "        cnt = 0\n",
    "        for line in f:\n",
    "            if (json.loads(line)['level'] < problem_level_lower_bound): continue\n",
    "            if (json.loads(line)['level'] > problem_level_upper_bound): continue\n",
    "            data.append(json.loads(line))\n",
    "            cnt += 1\n",
    "            # if (cnt == args.problem_numbers):\n",
    "            #     break\n",
    "    data = data[problem_interval_begin:problem_interval_end + 1]\n",
    "    print(len(data))\n",
    "    if inverse_problem_order:\n",
    "        data = data[::-1]\n",
    "\n",
    "    t = time.localtime()\n",
    "\n",
    "    complex_prompts = f'''\n",
    "    YOU ARE one of the GREATEST mathematicians, logicians, programmers, and AI scientists. You are intelligent and rational. You are prudent and cautious. Your mastery over Arithmetic, Combinatorics, Number Theory, Probability Theory, Algebra, Analysis, and Geometry is unparalleled. You THINK NATURAL, BROAD AND DEEP. Let's think step by step.\n",
    "    YOU will be given a mathematical question Q, and you need to generate intermediate thoughts to approach the answer of the given question Q.\n",
    "    Prioritize generating foundational hints that are useful for solving the problem. Prioritize generating foundational questions that are useful for solving the problem. We will solve these simpler components later, and then leverage these intermediate results to deduce the final solution.\n",
    "    '''\n",
    "    complex_examples = []\n",
    "    with open('complex-cot-math.txt', 'r', encoding='utf-8') as f:\n",
    "        t = f.read().split(\"\\n\\n\")\n",
    "        for i in t:\n",
    "            question = i.split(\"\\nA:\")[0].split('Question: ')[-1]\n",
    "            # print(question)\n",
    "            solution = \"\\nA:\".join(i.split(\"\\nA: \")[1:]).split(\"\\nThe answer is \")[0]\n",
    "            # print(answer)\n",
    "            final_answer = i.split(\"\\nThe answer is \")[-1]\n",
    "            print(final_answer)\n",
    "            complex_examples.append({'question': question, 'solution': solution, 'final_answer': final_answer})\n",
    "\n",
    "    complex_examples = complex_examples[:shots]\n",
    "\n",
    "    # Define the guidance program generate hints\n",
    "    program = guidance(complex_prompts, examples=complex_examples)\n",
    "\n",
    "    t = time.localtime()\n",
    "\n",
    "    # extract 'test' from args.dataset in format 'data/test.jsonl'\n",
    "    dataset_name = dataset.split('/')[1].split('.')[0]\n",
    "    # change huggyllama/llama-13b to huggyllama-llama-13b\n",
    "    model_name = model.replace('/', '-')\n",
    "    logfilename = 'results/results-math-complex-cot-openai--' + model_name + '--' + dataset_name + '--k_' + str(\n",
    "        majoritycnt) + '--' + time.strftime(\"%Y-%m-%d-%H-%M-%S\", t) + '.jsonl'\n",
    "    with open(logfilename, 'w') as f:\n",
    "        f.write(\"Model: \" + model + \"\\n\")\n",
    "        f.write(\"Temperature: \" + str(temperature) + \"\\n\")\n",
    "        f.write(\"Majority Cnt: \" + str(majoritycnt) + \"\\n\")\n",
    "        f.write(\"Hint Cnt: \" + str(hintcnt) + \"\\n\")\n",
    "        f.write(\"Question Cnt: \" + str(questioncnt) + \"\\n\")\n",
    "        f.write(\"Dataset: MATH - \" + dataset + \"\\n\")\n",
    "        f.write(\n",
    "            f\"Problem Level Interval: [{str(problem_level_lower_bound)}, {str(problem_level_upper_bound)}]\\n\")\n",
    "        # f.write(f\"Problem Numbers: First {str(args.problem_numbers)} Problems\\n\")\n",
    "        f.write(f\"Problem Interval: [{str(problem_interval_begin)}, {str(problem_interval_end)}]\\n\")\n",
    "        f.write(f\"Inverse Problem Order: {str(inverse_problem_order)}\\n\")\n",
    "        f.write(\"--------------------------------\\n\")\n",
    "    # Initialize counter for correct answers\n",
    "    correct_answers = 0\n",
    "    cnt = 0\n",
    "    total_cnt = len(data)\n",
    "\n",
    "    # Iterate over the data from the JSON file and call the solve function\n",
    "    for example in tqdm(data, desc=\"Evaluating\", unit=\"example\"):\n",
    "        cnt += 1\n",
    "\n",
    "        print(\"-------------------------\\n### Example ID: \", example[\"unique_id\"], \"\\t ( \", cnt, \"/\", total_cnt, \" )\")\n",
    "        print(\"Problem Level: \", example[\"level\"])\n",
    "        print(\"[Problem Subject]: \", example[\"subject\"])\n",
    "        print(\"[Problem Content]: \", example[\"problem\"])\n",
    "        # new Q for every example\n",
    "        print('example')\n",
    "        try_cnt = 0\n",
    "        while True:\n",
    "            try_cnt += 1\n",
    "            try:\n",
    "                out = try_wrapper(program)(question=example['problem'], sol_temperature=temperature, ans_temperature=temperature)\n",
    "                breakpoint()\n",
    "                judgement = try_wrapper(judger)(question_content=example['problem'],\n",
    "                                                question_subject=example['subject'], final_answer=out['final_answer'],\n",
    "                                                ground_truth_answer=example['answer'])\n",
    "\n",
    "                print(\"[Final Solution]: \", out['hints'])\n",
    "                print(\"[Final Answer]: \", out['solution'])\n",
    "                # print(\"[Ground Truth Solution]: \", example[\"solution\"])\n",
    "                print(\"[Ground Truth Answer]: \", example[\"answer\"])\n",
    "                print(\"[Correctness]: \", judgement[\"correctness\"])\n",
    "                break\n",
    "            except Exception as e:\n",
    "                print(e)\n",
    "                time.sleep(min(1024, 2 ** (try_cnt / 2)))\n",
    "                continue\n",
    "\n",
    "        correct_answers += (judgement['correctness'] == 'Correct')\n",
    "        # Calculate and print the running accuracy\n",
    "        accuracy = correct_answers / cnt\n",
    "\n",
    "        print(\"[Running Average Accuracy]: \", accuracy)\n",
    "\n",
    "        result = {\n",
    "            \"accuracy\": accuracy,\n",
    "            \"example_id\": example[\"unique_id\"],\n",
    "            \"level\": example[\"level\"],\n",
    "            \"problem_subject\": example[\"subject\"],\n",
    "            \"problem_content\": example[\"problem\"],\n",
    "            \"correctness\": judgement[\"correctness\"],\n",
    "            \"final_solution\": out['final_solution'],\n",
    "            \"final_answer\": out['final_answer'],\n",
    "            \"ground_truth_solution\": example[\"solution\"],\n",
    "            \"ground_truth_answer\": example[\"answer\"],\n",
    "        }\n",
    "\n",
    "        # Write the result to a JSON file, note that we open the file in append mode ('a')\n",
    "        with open(logfilename, 'a') as f:\n",
    "            f.write(json.dumps(result) + '\\n')  # write each result as a new line\n",
    "\n",
    "\n",
    "if __name__ == \"__main__\":\n",
    "    main()\n"
   ]
  },
  {
   "cell_type": "code",
   "execution_count": null,
   "id": "57c826e9-090b-45a9-8a7f-a983a395f185",
   "metadata": {},
   "outputs": [],
   "source": [
    "print(tokenizer)\n",
    "prompt = \"Hey, are you conscious? Can you talk to me?\"\n",
    "inputs = tokenizer(prompt, return_tensors=\"pt\")\n",
    "\n",
    "# Generate\n",
    "generate_ids = model.generate(inputs.input_ids, max_length=30)\n",
    "tokenizer.batch_decode(generate_ids, skip_special_tokens=True, clean_up_tokenization_spaces=False)[0]"
   ]
  },
  {
   "cell_type": "code",
   "execution_count": null,
   "id": "1ec74528-8638-4d83-96f0-4ab0a0ab373a",
   "metadata": {},
   "outputs": [],
   "source": [
    "import time\n",
    "problem_path = \"/common/home/zw393/wzz/LLM/LLM_ProblemConversion/datasets/problems/Math_manual\"\n",
    "ground_truth_path = \"/common/home/zw393/wzz/LLM/LLM_ProblemConversion/datasets/solution/ground_truth_Math_manual\"\n",
    "solution_path_noise = \"/common/home/zw393/wzz/LLM/LLM_ProblemConversion/datasets/solution/Wikipedia\"\n",
    "def strip_and_normalize(content):\n",
    "    return re.sub(r'\\s+', ' ', content).strip().lower()\n",
    "\n",
    "unique_contents = set()\n",
    "for txt_file in os.listdir(ground_truth_path):\n",
    "    if txt_file.endswith(\".txt\"):\n",
    "        file_path = os.path.join(ground_truth_path, txt_file)\n",
    "        with open(file_path, 'r') as file:\n",
    "            file_content = strip_and_normalize(file.read())\n",
    "            unique_contents.add(file_content)\n",
    "hint_pool = \", \".join(unique_contents)\n",
    "# print(hint_pool)\n",
    "print(hint_pool)\n",
    "\n",
    "template = f\"\"\"You are an expert at mathematics. Your job is to select the three best theorems most applicable for solving the given problem.\n",
    " You do not need to solve the problem. You must select your answer from this list of theorems: {hint_pool}{{question}}\"\"\"\n",
    "\n",
    "# Process problems\n",
    "solution_path = \"./../datasets/inference_result\"\n",
    "hit_count, total_files = 0, 0\n",
    "for problem in os.listdir(problem_path):\n",
    "    if problem.endswith(\".json\"):\n",
    "        total_files += 1\n",
    "        file_path = os.path.join(problem_path, problem)\n",
    "        try:\n",
    "            with open(file_path, 'r') as file:\n",
    "                content = json.load(file)\n",
    "                problem_txt = content[\"problem\"]\n",
    "        except IOError:\n",
    "            print(f\"Error reading '{file_path}'.\")\n",
    "            continue\n",
    "        print('ready to prompt')\n",
    "        print('The problem being solved is: ', problem_txt, 'located at: ',file_path)\n",
    "        question = f\"What 3 theorems are best applicable for solving following question? Please provide response that are separated by , only. \\n{{\\n{problem_txt}\\n}}\\n\"\n",
    "        prompt  =template + question\n",
    "        inputs = tokenizer(prompt, return_tensors=\"pt\")\n",
    "        print('input prepared')\n",
    "        # Generate\n",
    "        st= time.time()\n",
    "        generate_ids = model.generate(inputs.input_ids, max_length=1000)\n",
    "        et = time.time()\n",
    "        print('generation done')\n",
    "        elapsed_time = et - st\n",
    "        print('Execution time:', elapsed_time, 'seconds')\n",
    "        response = tokenizer.batch_decode(generate_ids, skip_special_tokens=True, clean_up_tokenization_spaces=False)[0]\n",
    "        response.replace(template+question,'')\n",
    "        print(response)\n"
   ]
  },
  {
   "cell_type": "code",
   "execution_count": null,
   "id": "13ac7684-4907-41ae-8082-915ac4da8bfb",
   "metadata": {},
   "outputs": [],
   "source": [
    "import transformers\n",
    "import torch\n",
    "\n",
    "model = \"meta-llama/Llama-2-7b-chat-hf\"\n",
    "\n",
    "pipeline = transformers.pipeline(\n",
    "    \"text-generation\",\n",
    "    model=model,\n",
    "    torch_dtype=torch.float16,\n",
    "    device_map=\"auto\",\n",
    ")\n",
    "\n",
    "sequences = pipeline(\n",
    "    'I liked \"Breaking Bad\" and \"Band of Brothers\". Do you have any recommendations of other shows I might like?\\n',\n",
    "    do_sample=True,\n",
    "    top_k=10,\n",
    "    num_return_sequences=1,\n",
    "    eos_token_id=tokenizer.eos_token_id,\n",
    "    max_length=200,\n",
    ")\n",
    "for seq in sequences:\n",
    "    print(f\"Result: {seq['generated_text']}\")\n"
   ]
  },
  {
   "cell_type": "code",
   "execution_count": null,
   "id": "b6c7d193-cb40-4752-abd5-4c2c98944421",
   "metadata": {},
   "outputs": [],
   "source": [
    "def get_some_feedbacks(prompt):\n",
    "    inputs = tokenizer(prompt, return_tensors=\"pt\")\n",
    "    # Generate\n",
    "    generate_ids = model.generate(inputs.input_ids, max_length=30)\n",
    "    return tokenizer.batch_decode(generate_ids, skip_special_tokens=True, clean_up_tokenization_spaces=False)[0]\n",
    "    "
   ]
  },
  {
   "cell_type": "code",
   "execution_count": null,
   "id": "efc94cc8-314d-4d62-9a86-808fc55bd071",
   "metadata": {},
   "outputs": [],
   "source": [
    "print(get_some_feedbacks('wat u doin?'))"
   ]
  },
  {
   "cell_type": "code",
   "execution_count": null,
   "id": "39c33fc9-e194-4610-bb8d-9f868be78cbf",
   "metadata": {},
   "outputs": [],
   "source": [
    "def hint_generation_llama2(problem_path,ground_truth_path,solution_space_path, model):\n",
    "    #########\n",
    "    model = LlamaForCausalLM.from_pretrained(\"meta-llama/Llama-2-13b-chat-hf\")\n",
    "    tokenizer = AutoTokenizer.from_pretrained(\"meta-llama/Llama-2-13b-chat-hf\")\n",
    "\n",
    "############\n",
    "    # Collect subdirectories\n",
    "    subdirectories = [item for item in os.listdir(solution_space_path)\n",
    "                      if os.path.isdir(os.path.join(solution_space_path, item))]\n",
    "    #  print(\", \".join(subdirectories))\n",
    "\n",
    "    # Function to strip and normalize content\n",
    "    def strip_and_normalize(content):\n",
    "        return re.sub(r'\\s+', ' ', content).strip().lower()\n",
    "\n",
    "    # Process ground truths\n",
    "    unique_contents = set()\n",
    "    for txt_file in os.listdir(ground_truth_path):\n",
    "        if txt_file.endswith(\".txt\"):\n",
    "            file_path = os.path.join(ground_truth_path, txt_file)\n",
    "            with open(file_path, 'r') as file:\n",
    "                file_content = strip_and_normalize(file.read())\n",
    "                unique_contents.add(file_content)\n",
    "    hint_pool = \", \".join(unique_contents)\n",
    "    # print(hint_pool)\n",
    "\n",
    "\n",
    "    template = f\"\"\"You are an expert at mathematics. Your job is to select the three best theorems most applicable for solving the given problem.\n",
    "     You do not need to solve the problem. You must select your answer from this list of theorems: {hint_pool}{{question}}\"\"\"\n",
    "\n",
    "    # Process problems\n",
    "    solution_path = \"./../datasets/inference_result\"\n",
    "    hit_count, total_files = 0, 0\n",
    "    for problem in os.listdir(problem_path):\n",
    "        if problem.endswith(\".txt\"):\n",
    "            total_files += 1\n",
    "            file_path = os.path.join(problem_path, problem)\n",
    "            try:\n",
    "                with open(file_path, 'r') as file:\n",
    "                    problem_txt = file.read()\n",
    "            except IOError:\n",
    "                print(f\"Error reading '{file_path}'.\")\n",
    "                continue\n",
    "            question = f\"What 3 theorems are best applicable for solving following question? Please provide response that are separated by , only. \\n{{\\n{problem_txt}\\n}}\\n\"\n",
    "            prompt  =template + question\n",
    "            inputs = tokenizer(prompt, return_tensors=\"pt\")\n",
    "            # Generate\n",
    "            generate_ids = model.generate(inputs.input_ids, max_length=1000)\n",
    "            response = tokenizer.batch_decode(generate_ids, skip_special_tokens=True, clean_up_tokenization_spaces=False)[0]\n",
    "            # Save response to file\n",
    "            output_file_path = os.path.join(solution_path, problem)\n",
    "            os.makedirs(solution_path, exist_ok=True)\n",
    "            try:\n",
    "                with open(output_file_path, 'w') as file:\n",
    "                    file.write(response)\n",
    "                    print(\"Wrote to: \" + output_file_path)\n",
    "            except IOError:\n",
    "                print(f\"Error writing to '{output_file_path}'.\")\n",
    "\n",
    "            # Compare with ground truth\n",
    "            ground_truth_file_path = os.path.join(ground_truth_path, problem)\n",
    "            if os.path.isfile(ground_truth_file_path):\n",
    "                with open(ground_truth_file_path, 'r',encoding='utf-8-sig') as ground_truth_file:\n",
    "                    ground_truth_items = [strip_and_normalize(item) for item in ground_truth_file.read().split(',')]\n",
    "                    response =[strip_and_normalize(item) for item in response.split(',')]\n",
    "                for item in ground_truth_items:\n",
    "                    item = item.strip('\\'')\n",
    "                    print('ground_truth_items: ', ground_truth_items)\n",
    "                    print('response: ', response)\n",
    "                    if item in response:\n",
    "                        hit_count += 1\n",
    "                        logging.info('response contains ground truth', 'hit_count:', hit_count)\n",
    "                        break\n",
    "                    else:\n",
    "                        logging.info('response does not include ground_truth')\n",
    "\n",
    "    logging.info('hit count: ',hit_count,'total problems: ',total_files)\n",
    "    return f\"{hit_count}/{total_files}\"\n",
    "\n"
   ]
  },
  {
   "cell_type": "code",
   "execution_count": null,
   "id": "df13b9b5-cc98-45d0-bd2d-4ab2a5f9e6b1",
   "metadata": {},
   "outputs": [],
   "source": [
    "problem_path = \"/common/home/hg343/Research/LLM_ProblemConversion/datasets/problems/Math_manual\"\n",
    "ground_truth_path = \"/common/home/hg343/Research/LLM_ProblemConversion/datasets/solution/ground_truth_Math_manual\"\n",
    "solution_path_noise = \"/common/home/hg343/Research/LLM_ProblemConversion/datasets/solution/Wikipedia\"\n",
    "hint_accuracy = hint_generation_llama2(problem_path,ground_truth_path,solution_path_noise, model=None)"
   ]
  }
 ],
 "metadata": {
  "kernelspec": {
   "display_name": "Python LLM_PC",
   "language": "python",
   "name": "llm_pc"
  },
  "language_info": {
   "codemirror_mode": {
    "name": "ipython",
    "version": 3
   },
   "file_extension": ".py",
   "mimetype": "text/x-python",
   "name": "python",
   "nbconvert_exporter": "python",
   "pygments_lexer": "ipython3",
   "version": "3.11.5"
  }
 },
 "nbformat": 4,
 "nbformat_minor": 5
}
